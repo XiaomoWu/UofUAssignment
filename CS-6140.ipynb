{
 "cells": [
  {
   "cell_type": "markdown",
   "metadata": {},
   "source": [
    "# Code Snippet for CS 6140\n",
    "***"
   ]
  },
  {
   "cell_type": "markdown",
   "metadata": {},
   "source": [
    "## Before you continue\n",
    "***\n",
    "- This notebook only contains code snippet, not the full code for the assignment. I suppose I already cover the most difficult part :P\n",
    "\n",
    "\n",
    "- Since I wrote my assignment in `Python` and converted them into `R` later, I'm afraid they may not as well performing as the `Python` version.\n",
    "\n",
    "\n",
    "- Let's start!"
   ]
  },
  {
   "cell_type": "markdown",
   "metadata": {
    "toc-hr-collapsed": false
   },
   "source": [
    "## Asignment 2\n",
    "***"
   ]
  },
  {
   "cell_type": "markdown",
   "metadata": {},
   "source": [
    "### How to create *character* k-gram from a string?\n",
    "\n",
    "You don't need to user the `tm` package to create k-gram representations. As far as I know, `tm` only works for \"words\", not \"characters\".\n",
    "\n",
    "Actually, some simply `R` string indexing trick will suffice."
   ]
  },
  {
   "cell_type": "code",
   "execution_count": 30,
   "metadata": {},
   "outputs": [],
   "source": [
    "# You must have 'stringr' package installed\n",
    "require('stringr')"
   ]
  },
  {
   "cell_type": "code",
   "execution_count": 45,
   "metadata": {},
   "outputs": [
    {
     "data": {
      "text/html": [
       "'abcdefg'"
      ],
      "text/latex": [
       "'abcdefg'"
      ],
      "text/markdown": [
       "'abcdefg'"
      ],
      "text/plain": [
       "[1] \"abcdefg\""
      ]
     },
     "metadata": {},
     "output_type": "display_data"
    }
   ],
   "source": [
    "# First create a string\n",
    "s <- 'abcdefg'\n",
    "s"
   ]
  },
  {
   "cell_type": "code",
   "execution_count": 58,
   "metadata": {},
   "outputs": [
    {
     "data": {
      "text/html": [
       "<ol class=list-inline>\n",
       "\t<li>'ab'</li>\n",
       "\t<li>'bc'</li>\n",
       "\t<li>'cd'</li>\n",
       "\t<li>'de'</li>\n",
       "\t<li>'ef'</li>\n",
       "\t<li>'fg'</li>\n",
       "</ol>\n"
      ],
      "text/latex": [
       "\\begin{enumerate*}\n",
       "\\item 'ab'\n",
       "\\item 'bc'\n",
       "\\item 'cd'\n",
       "\\item 'de'\n",
       "\\item 'ef'\n",
       "\\item 'fg'\n",
       "\\end{enumerate*}\n"
      ],
      "text/markdown": [
       "1. 'ab'\n",
       "2. 'bc'\n",
       "3. 'cd'\n",
       "4. 'de'\n",
       "5. 'ef'\n",
       "6. 'fg'\n",
       "\n",
       "\n"
      ],
      "text/plain": [
       "[1] \"ab\" \"bc\" \"cd\" \"de\" \"ef\" \"fg\""
      ]
     },
     "metadata": {},
     "output_type": "display_data"
    }
   ],
   "source": [
    "# Loop through every string to create k-gram \n",
    "\n",
    "# Set k\n",
    "k <- 2\n",
    "\n",
    "# First, create an empty list to store generated k-grams.\n",
    "kgram <- c()\n",
    "for (i in seq_len(str_length(s))) {\n",
    "    word <- str_sub(s, i, i+k-1)\n",
    "    if (str_length(word) == k) {\n",
    "        kgram <- c(kgram, word)\n",
    "    }\n",
    "}\n",
    "kgram"
   ]
  },
  {
   "cell_type": "markdown",
   "metadata": {},
   "source": [
    "### How to split string into words?\n",
    "\n",
    "Suppose we have a string *\"John starts his day with an angry look at his inbox\"*, and we want to convert it into somthing like (if I understand your question correctly)\n",
    "\n",
    "    [\"John\", \"starts\", ..., \"inbox\"]\n",
    "    \n",
    "`stringr::str_split()` is the way to go.\n",
    "\n",
    "> In the previous version, I generate `words`(line 3) with `str_split(s, ' ')`, however, it actually returns a `list` instead of a `character` vector, which cause your problem. By indexing it with `[[1]]`, we returns a vector."
   ]
  },
  {
   "cell_type": "code",
   "execution_count": 32,
   "metadata": {},
   "outputs": [
    {
     "data": {
      "text/html": [
       "<ol class=list-inline>\n",
       "\t<li>'John'</li>\n",
       "\t<li>'starts'</li>\n",
       "\t<li>'his'</li>\n",
       "\t<li>'day'</li>\n",
       "\t<li>'with'</li>\n",
       "\t<li>'an'</li>\n",
       "\t<li>'angry'</li>\n",
       "\t<li>'look'</li>\n",
       "\t<li>'at'</li>\n",
       "\t<li>'his'</li>\n",
       "\t<li>'inbox'</li>\n",
       "</ol>\n"
      ],
      "text/latex": [
       "\\begin{enumerate*}\n",
       "\\item 'John'\n",
       "\\item 'starts'\n",
       "\\item 'his'\n",
       "\\item 'day'\n",
       "\\item 'with'\n",
       "\\item 'an'\n",
       "\\item 'angry'\n",
       "\\item 'look'\n",
       "\\item 'at'\n",
       "\\item 'his'\n",
       "\\item 'inbox'\n",
       "\\end{enumerate*}\n"
      ],
      "text/markdown": [
       "1. 'John'\n",
       "2. 'starts'\n",
       "3. 'his'\n",
       "4. 'day'\n",
       "5. 'with'\n",
       "6. 'an'\n",
       "7. 'angry'\n",
       "8. 'look'\n",
       "9. 'at'\n",
       "10. 'his'\n",
       "11. 'inbox'\n",
       "\n",
       "\n"
      ],
      "text/plain": [
       " [1] \"John\"   \"starts\" \"his\"    \"day\"    \"with\"   \"an\"     \"angry\"  \"look\"  \n",
       " [9] \"at\"     \"his\"    \"inbox\" "
      ]
     },
     "metadata": {},
     "output_type": "display_data"
    }
   ],
   "source": [
    "require(stringr)\n",
    "s <- \"John starts his day with an angry look at his inbox\"\n",
    "words <- str_split(s, ' ')[[1]] # You must add \"[[1]]\" here!\n",
    "words"
   ]
  },
  {
   "cell_type": "markdown",
   "metadata": {},
   "source": [
    "### How to create *word* k-grams?\n",
    "\n",
    "Very similar to what wo did in character k-gram."
   ]
  },
  {
   "cell_type": "code",
   "execution_count": 33,
   "metadata": {},
   "outputs": [
    {
     "data": {
      "text/html": [
       "<ol class=list-inline>\n",
       "\t<li>'w1 w2'</li>\n",
       "\t<li>'w2 w3'</li>\n",
       "\t<li>'w3 w4'</li>\n",
       "</ol>\n"
      ],
      "text/latex": [
       "\\begin{enumerate*}\n",
       "\\item 'w1 w2'\n",
       "\\item 'w2 w3'\n",
       "\\item 'w3 w4'\n",
       "\\end{enumerate*}\n"
      ],
      "text/markdown": [
       "1. 'w1 w2'\n",
       "2. 'w2 w3'\n",
       "3. 'w3 w4'\n",
       "\n",
       "\n"
      ],
      "text/plain": [
       "[1] \"w1 w2\" \"w2 w3\" \"w3 w4\""
      ]
     },
     "metadata": {},
     "output_type": "display_data"
    }
   ],
   "source": [
    "# create a sample word list\n",
    "doc <- c('w1', 'w2', 'w3', 'w4', 'w5')\n",
    "\n",
    "# set k\n",
    "k <- 2\n",
    "\n",
    "# empty vector to store generated k-grams\n",
    "kgram <- c()\n",
    "\n",
    "# loop through each word in doc\n",
    "for (i in seq_along(doc)) {\n",
    "    word <- str_c(doc[i : (i+k-1)], collapse = ' ')\n",
    "    if (i <= length(doc) - k) {\n",
    "        kgram <- c(kgram, word)\n",
    "    }   \n",
    "}\n",
    "kgram"
   ]
  },
  {
   "cell_type": "markdown",
   "metadata": {},
   "source": [
    "Actually, you don't need to intall package `stringr` to achieve that. `strsplit` in the \"base\" `R` does exactly the same thing. However, what's beautiful about `stringr` is that the naming of its functions ais very consistent and, I would say, elegent :P"
   ]
  },
  {
   "cell_type": "markdown",
   "metadata": {},
   "source": [
    "### How do we build a min-hash signature? "
   ]
  },
  {
   "cell_type": "markdown",
   "metadata": {},
   "source": [
    "Suppose we want to build `t` hash functions then take the `min` of it, and we use the `sha1` function from the `openssl` package."
   ]
  },
  {
   "cell_type": "code",
   "execution_count": 34,
   "metadata": {},
   "outputs": [
    {
     "name": "stderr",
     "output_type": "stream",
     "text": [
      "Warning message:\n",
      "\"unable to access index for repository http://www.stats.ox.ac.uk/pub/RWin/bin/windows/contrib/3.5:\n",
      "  cannot open URL 'http://www.stats.ox.ac.uk/pub/RWin/bin/windows/contrib/3.5/PACKAGES'\""
     ]
    },
    {
     "name": "stdout",
     "output_type": "stream",
     "text": [
      "package 'openssl' successfully unpacked and MD5 sums checked\n",
      "\n",
      "The downloaded binary packages are in\n",
      "\tC:\\Users\\rossz\\AppData\\Local\\Temp\\RtmpyIsdeh\\downloaded_packages\n"
     ]
    }
   ],
   "source": [
    "install.packages('openssl')"
   ]
  },
  {
   "cell_type": "markdown",
   "metadata": {},
   "source": [
    "For a string `s` like \"AMD announces its earnning today\". To get its hash signature, just run `sha1(s)`"
   ]
  },
  {
   "cell_type": "code",
   "execution_count": 35,
   "metadata": {},
   "outputs": [
    {
     "data": {
      "text/plain": [
       "[1] \"d54101b36e17c5cbce3ee5f341555716785b5310\""
      ]
     },
     "metadata": {},
     "output_type": "display_data"
    }
   ],
   "source": [
    "library(openssl)\n",
    "s <- \"AMD announces its earnning today\"\n",
    "sha1(s)"
   ]
  },
  {
   "cell_type": "markdown",
   "metadata": {},
   "source": [
    "If we want generate *multiple* hash functions, just add some \"salt\" (random string) to it. For example, for hash function `f1`, we use `sha1(str_c(s, 'string1'))`, for hash function `f2`, use `sha1(str_c(s, 'string2'))`. "
   ]
  },
  {
   "cell_type": "code",
   "execution_count": 37,
   "metadata": {},
   "outputs": [
    {
     "data": {
      "text/plain": [
       "[1] \"fb33276aad7d422758ed4a721a101a78ef2db53f\""
      ]
     },
     "metadata": {},
     "output_type": "display_data"
    }
   ],
   "source": [
    "sha1(str_c(s, 'whatever-you-like'))"
   ]
  },
  {
   "cell_type": "markdown",
   "metadata": {},
   "source": [
    "The choice of salt is very arbitrary, you may use any string (or number, than convert it to string) you like.\n",
    "\n",
    "Each random string will represent 1 hash function, that's why you have \"t=10, 20, 30...\". Effectively `t` is the number of hash functions, or, number of random salt."
   ]
  },
  {
   "cell_type": "markdown",
   "metadata": {},
   "source": [
    "### Given a string, how to build `t`=N functions? "
   ]
  },
  {
   "cell_type": "markdown",
   "metadata": {},
   "source": [
    "Suppose we have a document like `c('a b', 'b c', 'c d', 'e f')`, and we want to generate `t`=10 hash functions. "
   ]
  },
  {
   "cell_type": "code",
   "execution_count": 22,
   "metadata": {},
   "outputs": [
    {
     "name": "stdout",
     "output_type": "stream",
     "text": [
      " [1] \"115429024a15ffb9ab1577fe6934dc641d10be3c\"\n",
      " [2] \"00aada5e98e8351f959cef536c0e044969ec6344\"\n",
      " [3] \"5e09b7937bed66f98be1c1a980c9ad1711b35122\"\n",
      " [4] \"860bcdaa6b988dc8031503b57ab7e53e1c444035\"\n",
      " [5] \"301b8469746364d6a279dbf4fb55509bc22ede58\"\n",
      " [6] \"1d9345e5ed8f524bb6e1aa1b4311798a6c3c11d0\"\n",
      " [7] \"1fadfe064de5e356b573bd7bab34bd48341435b2\"\n",
      " [8] \"04230a41e073878b7871fcdae215b65b0a0b36d4\"\n",
      " [9] \"218eea02be8f0fafb4549a6300c22fa7ea445ba0\"\n",
      "[10] \"3a41241638159fd5baf6f9f4df581cb4e1cc7e2d\"\n"
     ]
    }
   ],
   "source": [
    "s <- c('a b', 'b c', 'c d', 'e f') # 4 elements!\n",
    "\n",
    "# we generate 10 random \"salt\", let's say they are 10 uniform numbers.\n",
    "# don't forget to convert them into characters\n",
    "salts <- as.character(runif(10))\n",
    "\n",
    "# each salt will generate one hash fucntions\n",
    "# and we use this hash function to hash \"each\" element in s, which will give us 4 values\n",
    "# we then take the minimum of these 4 hash signatures.\n",
    "minhash_list <- c()\n",
    "for (i in seq_along(salts)) {\n",
    "    hashed_s <- c()\n",
    "    for (j in seq_along(s)) {\n",
    "        hashed_s <- c(hashed_s, sha1(str_c(s[j], salts[i])))\n",
    "    }\n",
    "    # now there are 4 numbers in hashed_s\n",
    "    # we take the min\n",
    "    # this will be the minhash of s \"given a particular salt\" (here is salts[i])\n",
    "    minhash <- min(hashed_s)\n",
    "    \n",
    "    # finally, we append minhash to minhash_list\n",
    "    minhash_list <- c(minhash_list, minhash)\n",
    "}\n",
    "# Eventually there should be t=10 values in the minhash_list\n",
    "print(minhash_list)"
   ]
  },
  {
   "cell_type": "markdown",
   "metadata": {},
   "source": [
    "Repeat the previous steps on the second document, which will also give us a 10-element vector. Compute the fraction of similar elements, that will be the JS."
   ]
  },
  {
   "cell_type": "markdown",
   "metadata": {},
   "source": [
    "## Assignment 3"
   ]
  },
  {
   "cell_type": "markdown",
   "metadata": {},
   "source": [
    "### Q1.B Report similarity"
   ]
  },
  {
   "cell_type": "markdown",
   "metadata": {},
   "source": [
    "For example, suppose from Q1.A, your choice of `b` and `r` is 2 and 5, respectively, and you want to calculate pair (A,B) whose similarity is 0.75. All you need to do is plug them into the formula $f(s) = 1 - (1 - s^b)^r$, which is $1 - (1 - 0.75^2)^5$.\n",
    "\n",
    "You even don't need to write code to compute that!"
   ]
  },
  {
   "cell_type": "markdown",
   "metadata": {},
   "source": [
    "### Q2.A How to generate random unit vector"
   ]
  },
  {
   "cell_type": "markdown",
   "metadata": {},
   "source": [
    "Suppose we want to generate two random unit vector with dimension of $d=10$.\n",
    "\n",
    "First, generate two random normal distribution."
   ]
  },
  {
   "cell_type": "code",
   "execution_count": 5,
   "metadata": {},
   "outputs": [],
   "source": [
    "set.seed(42)\n",
    "# u1 and u2 follow uniform distribution\n",
    "# this is only for demonstration, you should use some loop to generate unit vector in batch!\n",
    "\n",
    "d <- 10 # dimension\n",
    "u1 <- runif(d/2) # 5 uniform\n",
    "u2 <- runif(d/2) # 5 uniform\n",
    "\n",
    "# genearte normal\n",
    "y1 <- sqrt(-2 * log(u1)) * cos(2 * pi * u2) # 5 normal\n",
    "y2 <- sqrt(-2 * log(u2)) * sin(2 * pi * u2) # 5 normal\n",
    "\n",
    "# combine y1 and y2 to get a vector of dimemsion 10\n",
    "y <- c(y1, y2)\n",
    "\n",
    "# normalize\n",
    "y <- y / sqrt(y^2)"
   ]
  },
  {
   "cell_type": "markdown",
   "metadata": {},
   "source": [
    "Now you have succesfully generate a 10 dimension unit vector! Repeat it as many times as you wish"
   ]
  },
  {
   "cell_type": "markdown",
   "metadata": {},
   "source": [
    "### Q2.B Plot CDF of inner product"
   ]
  },
  {
   "cell_type": "markdown",
   "metadata": {},
   "source": [
    "This is quite trivial. "
   ]
  },
  {
   "cell_type": "markdown",
   "metadata": {},
   "source": [
    "### Q3.A Plot angular similarity"
   ]
  },
  {
   "cell_type": "markdown",
   "metadata": {},
   "source": [
    "Still trivial, read into the vectors, normalize them, and then compute as required by the equation."
   ]
  },
  {
   "cell_type": "markdown",
   "metadata": {},
   "source": [
    "### Q3.B Plot angular similarity (with LSH)"
   ]
  },
  {
   "cell_type": "markdown",
   "metadata": {},
   "source": [
    "Do as in Q3.A"
   ]
  }
 ],
 "metadata": {
  "kernelspec": {
   "display_name": "MRO-3.5.1",
   "language": "R",
   "name": "ir35"
  },
  "language_info": {
   "codemirror_mode": "r",
   "file_extension": ".r",
   "mimetype": "text/x-r-source",
   "name": "R",
   "pygments_lexer": "r",
   "version": "3.5.1"
  }
 },
 "nbformat": 4,
 "nbformat_minor": 2
}
