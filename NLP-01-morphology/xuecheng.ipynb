{
 "cells": [
  {
   "cell_type": "code",
   "execution_count": 215,
   "metadata": {},
   "outputs": [],
   "source": [
    "with open('dict.txt', 'r') as myDictionary:\n",
    "    wordlist = [line.split(None, 1)[0] for line in myDictionary]\n",
    "with open('dict.txt', 'r') as myDictionary:\n",
    "    Dictionary = myDictionary.readlines()\n",
    "    \n",
    "with open(\"test.txt\", \"r\") as mytest:\n",
    "    testlist = [line.split(None, 1)[0] for line in mytest]"
   ]
  },
  {
   "cell_type": "code",
   "execution_count": 18,
   "metadata": {},
   "outputs": [
    {
     "name": "stdout",
     "output_type": "stream",
     "text": [
      "['be verb\\n', 'are verb ROOT be \\n', 'was verb ROOT be \\n', 'were verb ROOT be \\n', 'carry verb\\n', 'dress noun\\n', 'dress verb\\n', 'goose noun\\n', 'geese noun ROOT goose\\n', 'hair noun\\n', 'have verb\\n', 'has verb ROOT have \\n', 'had verb ROOT have \\n', 'is verb ROOT be \\n', 'sleep verb\\n', 'sleep noun\\n', 'slept verb ROOT sleep \\n', 'slow adjective\\n', 'sit verb\\n', 'sat verb ROOT sit \\n', 'store noun\\n', 'store verb\\n', 'view verb\\n', 'view noun\\n', 'walk verb\\n']\n"
     ]
    }
   ],
   "source": [
    "print(Dictionary)\n",
    "Dic_w_root = [Dictionary[i] for i in range(len(Dictionary)) if len(Dictionary[i].split()) > 2]\n",
    "Dic_wo_root = [Dictionary[i] for i in range(len(Dictionary)) if len(Dictionary[i].split()) <= 2]"
   ]
  },
  {
   "cell_type": "code",
   "execution_count": 174,
   "metadata": {
    "collapsed": true
   },
   "outputs": [],
   "source": [
    "Dic_direct = []\n",
    "for e in Dic_w_root:\n",
    "    tmp = e.split()[:3]\n",
    "    tmp.append(\" = \")\n",
    "    tmp.append(e.split()[-1])\n",
    "    tmp.append(\" SOURCE: \"+'dictionary')\n",
    "    Dic_direct.append(\" \".join(tmp))\n",
    "\n",
    "for e in Dic_wo_root:\n",
    "    tmp = e.split()[:2]\n",
    "    tmp.append(\" ROOT = \" + e.split()[0])\n",
    "    tmp.append(\" SOURCE: \"+'dictionary')\n",
    "    Dic_direct.append(\" \".join(tmp))\n",
    "\n"
   ]
  },
  {
   "cell_type": "code",
   "execution_count": 117,
   "metadata": {},
   "outputs": [
    {
     "name": "stdout",
     "output_type": "stream",
     "text": [
      "['be verb', 'carry verb', 'dress noun', 'dress verb', 'goose noun', 'hair noun', 'have verb', 'sleep verb', 'sleep noun', 'slow adjective', 'sit verb', 'store noun', 'store verb', 'view verb', 'view noun', 'walk verb']\n"
     ]
    }
   ],
   "source": [
    "Dic_pos = [line.split()[0]+\" \"+line.split()[1] for line in Dic_wo_root]\n",
    "print(Dic_pos)"
   ]
  },
  {
   "cell_type": "code",
   "execution_count": 228,
   "metadata": {},
   "outputs": [],
   "source": [
    "Dic_first = []\n",
    "\n",
    "for tmp_root in Dic_pos:\n",
    "    \n",
    "    tmp_word = tmp_root.split()[0]\n",
    "    if tmp_root.split()[1] == \"verb\":\n",
    "        out_pos = [\"verb\", \"adjective\", \"noun\"]\n",
    "        if tmp_word[-1::] == 'e':\n",
    "            tmp_add = tmp_word + 'd'\n",
    "            tmp_new_dic = [tmp_word +'s'+\" \" + \"verb\" + \" ROOT = \" + tmp_word + \" \"+ \"SOURCE: \" + \"mophorlogy\",\n",
    "                           'pre'+tmp_word + \" \" + \"verb\" + \" ROOT = \" + tmp_word + \" \"+ \"SOURCE: \" + \"mophorlogy\",\n",
    "                          tmp_add + \" \" + \"verb\" + \" ROOT = \" + tmp_word + \" \"+ \"SOURCE: \" + \"mophorlogy\",\n",
    "                          'pre'+tmp_add + \" \" + \"verb\" + \" ROOT = \" + tmp_word + \" \"+ \"SOURCE: \" + \"mophorlogy\",\n",
    "                          tmp_add + \" \" + \"adjective\" + \" ROOT = \" + tmp_word + \" \" + \"SOURCE: \" + \"mophorlogy\",\n",
    "                          'pre'+tmp_add + \" \" + \"adjective\" + \" ROOT = \" + tmp_word + \" \" + \"SOURCE: \" + \"mophorlogy\"]\n",
    "        else:\n",
    "            if tmp_word[-1::] == 'y':\n",
    "                tmp_add = tmp_word[:-1:] + 'ied'\n",
    "                tmp_new_dic = [tmp_word+'s'+ \" \" + \"verb\" + \" ROOT = \" + tmp_word + \" \"+ \"SOURCE: \" + \"mophorlogy\",\n",
    "                               'pre'+tmp_word+ \" \" + \"verb\" + \" ROOT = \" + tmp_word + \" \"+ \"SOURCE: \" + \"mophorlogy\",\n",
    "                              tmp_add + \" \" + \"verb\" + \" ROOT = \" + tmp_word + \" \"+ \"SOURCE: \" + \"mophorlogy\",\n",
    "                              'pre'+tmp_add + \" \" + \"verb\" + \" ROOT = \" + tmp_word + \" \"+ \"SOURCE: \" + \"mophorlogy\",\n",
    "                              tmp_add + \" \" + \"adjective\" + \" ROOT = \" + tmp_word + \" \" + \"SOURCE: \" + \"mophorlogy\",\n",
    "                              'pre'+tmp_add + \" \" + \"adjective\" + \" ROOT = \" + tmp_word + \" \"+ \"SOURCE: \" + \"mophorlogy\",]\n",
    "            else:\n",
    "                    tmp_add = tmp_word + 'ed'\n",
    "                    tmp_add_s = tmp_word + 's'\n",
    "                    tmp_add_n = tmp_word + \"er\"\n",
    "                    tmp_new_dic = ['pre'+tmp_word + \" \" + \"verb\" + \" ROOT = \" + tmp_word + \" \"+ \"SOURCE: \" + \"mophorlogy\",\n",
    "                                  tmp_add + \" \" + \"verb\" + \" ROOT = \" + tmp_word + \" \"+ \"SOURCE: \" + \"mophorlogy\",\n",
    "                                  'pre'+tmp_add + \" \" + \"verb\" + \" ROOT = \" + tmp_word + \" \"+ \"SOURCE: \" + \"mophorlogy\",\n",
    "                                  tmp_add + \" \" + \"adjective\" + \" ROOT = \" + tmp_word + \" \" + \"SOURCE: \" + \"mophorlogy\",\n",
    "                                  'pre'+tmp_add + \" \" + \"adjective\" + \" ROOT = \" + tmp_word + \" \" + \"SOURCE: \" + \"mophorlogy\",\n",
    "                                  tmp_add_s + \" \"+\"verb\"+\" ROOT = \"+tmp_word+\" \" +  \"SOURCE: \" + \"mophorlogy\",\n",
    "                                  'pre'+tmp_add_s + \" \"+\"verb\"+\" ROOT = \"+tmp_word+\" \" +  \"SOURCE: \" + \"mophorlogy\",\n",
    "                                  tmp_add_n + \" \"+\"noun\"+\" ROOT = \"+tmp_word+\" \" +  \"SOURCE: \" + \"mophorlogy\",\n",
    "                                  'pre'+tmp_add_n + \" \"+\"noun\"+\" ROOT = \"+tmp_word+\" \" +  \"SOURCE: \" + \"mophorlogy\"]\n",
    "    else:\n",
    "        if tmp_root.split()[1] == \"adjective\":\n",
    "            if tmp_word[-1::] == 'y':\n",
    "                tmp_add = tmp_word[:-1:] + 'iest'\n",
    "                tmp_new_dic = [tmp_add + \" \" + \"adjective\" + \" ROOT = \" + tmp_word + \" \"+ \"SOURCE: \" + \"mophorlogy\"]\n",
    "            else:\n",
    "                tmp_add = tmp_word + 'est'\n",
    "                tmp_new_dic = [tmp_add + \" \" + \"adjective\" + \" ROOT = \" + tmp_word + \" \"+ \"SOURCE: \" + \"mophorlogy\"]\n",
    "\n",
    "        else:\n",
    "            if tmp_root.split()[1] == \"noun\":\n",
    "                tmp_add_n = tmp_word + 's'\n",
    "                tmp_add_aj = tmp_word + 'y'\n",
    "                tmp_new_dic = [tmp_add_n + \" \" + \"noun\" + \" ROOT = \" + tmp_word + \" \"+ \"SOURCE: \" + \"mophorlogy\",\n",
    "                              tmp_add_aj + \" \" + \"adjective\" + \" ROOT = \" + tmp_word + \" \"+ \"SOURCE: \" + \"mophorlogy\",\n",
    "                              'anti'+tmp_word + \" \" + \"adjective\" + \" ROOT = \" + tmp_word + \" \"+ \"SOURCE: \" + \"mophorlogy\"]\n",
    "\n",
    "    Dic_first = Dic_first + tmp_new_dic\n",
    "\n",
    "    for e in Dic_first:\n",
    "        if e.split()[1] == \"noun\":\n",
    "            if e.split()[0][-1] != 's':\n",
    "                Dic_first.append(e.split()[0]+\"s \"+\" \".join(e.split()[1:]))\n",
    "\n",
    "\n",
    "Dictionary_all = Dic_direct + Dic_first               "
   ]
  },
  {
   "cell_type": "code",
   "execution_count": 229,
   "metadata": {
    "collapsed": true
   },
   "outputs": [],
   "source": [
    "Dictionary_all = Dic_direct + Dic_first \n",
    "my_Dic_list = [e.split()[0] for e in Dictionary_all]"
   ]
  },
  {
   "cell_type": "code",
   "execution_count": 235,
   "metadata": {},
   "outputs": [],
   "source": [
    "\n",
    "myoutput = list()\n",
    "for mytest in ['previewness']:\n",
    "    search_R = [Dictionary_all[i] for i, j in enumerate(my_Dic_list) if j == mytest.lower()]\n",
    "    if len(search_R) == 0:\n",
    "        myoutput.append(mytest.lower()+\" noun\"+\" ROOT = \"+mytest.lower()+\" SOURCE = default\")\n",
    "    else:\n",
    "        myoutput = myoutput + search_R\n",
    "    \n"
   ]
  },
  {
   "cell_type": "code",
   "execution_count": 236,
   "metadata": {},
   "outputs": [
    {
     "data": {
      "text/plain": [
       "['previewness noun ROOT = previewness SOURCE = default']"
      ]
     },
     "execution_count": 236,
     "metadata": {},
     "output_type": "execute_result"
    }
   ],
   "source": [
    "myoutput"
   ]
  },
  {
   "cell_type": "code",
   "execution_count": 152,
   "metadata": {},
   "outputs": [],
   "source": [
    "A = Dic_w_root[0].split()[:3]\n",
    "A.append(\" = \")\n",
    "A.append(Dic_w_root[0].split()[-1])\n",
    "B = \" \".join(A)"
   ]
  },
  {
   "cell_type": "code",
   "execution_count": 187,
   "metadata": {},
   "outputs": [
    {
     "data": {
      "text/plain": [
       "['prebe verb ROOT = be SOURCE: mophorlogy',\n",
       " 'bed verb ROOT = be SOURCE: mophorlogy',\n",
       " 'prebed verb ROOT = be SOURCE: mophorlogy',\n",
       " 'bed adjective ROOT = be SOURCE: mophorlogy',\n",
       " 'prebed adjective ROOT = be SOURCE: mophorlogy',\n",
       " 'precarry verb ROOT = carry SOURCE: mophorlogy',\n",
       " 'carried verb ROOT = carry SOURCE: mophorlogy',\n",
       " 'precarried verb ROOT = carry SOURCE: mophorlogy',\n",
       " 'carried adjective ROOT = carry SOURCE: mophorlogy',\n",
       " 'precarried adjective ROOT = carry SOURCE: mophorlogy',\n",
       " 'dresss noun ROOT = dress SOURCE: mophorlogy',\n",
       " 'dressy adjective ROOT = dress SOURCE: mophorlogy',\n",
       " 'antidress adjective ROOT = dress SOURCE: mophorlogy',\n",
       " 'predress verb ROOT = dress SOURCE: mophorlogy',\n",
       " 'dressed verb ROOT = dress SOURCE: mophorlogy',\n",
       " 'predressed verb ROOT = dress SOURCE: mophorlogy',\n",
       " 'dressed adjective ROOT = dress SOURCE: mophorlogy',\n",
       " 'predressed adjective ROOT = dress SOURCE: mophorlogy',\n",
       " 'dresss verb ROOT = dress SOURCE: mophorlogy',\n",
       " 'predresss verb ROOT = dress SOURCE: mophorlogy',\n",
       " 'dresser noun ROOT = dress SOURCE: mophorlogy',\n",
       " 'predresser noun ROOT = dress SOURCE: mophorlogy',\n",
       " 'dressers noun ROOT = dress SOURCE: mophorlogy',\n",
       " 'predressers noun ROOT = dress SOURCE: mophorlogy',\n",
       " 'gooses noun ROOT = goose SOURCE: mophorlogy',\n",
       " 'goosey adjective ROOT = goose SOURCE: mophorlogy',\n",
       " 'antigoose adjective ROOT = goose SOURCE: mophorlogy',\n",
       " 'dressers noun ROOT = dress SOURCE: mophorlogy',\n",
       " 'predressers noun ROOT = dress SOURCE: mophorlogy',\n",
       " 'hairs noun ROOT = hair SOURCE: mophorlogy',\n",
       " 'hairy adjective ROOT = hair SOURCE: mophorlogy',\n",
       " 'antihair adjective ROOT = hair SOURCE: mophorlogy',\n",
       " 'dressers noun ROOT = dress SOURCE: mophorlogy',\n",
       " 'predressers noun ROOT = dress SOURCE: mophorlogy',\n",
       " 'prehave verb ROOT = have SOURCE: mophorlogy',\n",
       " 'haved verb ROOT = have SOURCE: mophorlogy',\n",
       " 'prehaved verb ROOT = have SOURCE: mophorlogy',\n",
       " 'haved adjective ROOT = have SOURCE: mophorlogy',\n",
       " 'prehaved adjective ROOT = have SOURCE: mophorlogy',\n",
       " 'dressers noun ROOT = dress SOURCE: mophorlogy',\n",
       " 'predressers noun ROOT = dress SOURCE: mophorlogy',\n",
       " 'presleep verb ROOT = sleep SOURCE: mophorlogy',\n",
       " 'sleeped verb ROOT = sleep SOURCE: mophorlogy',\n",
       " 'presleeped verb ROOT = sleep SOURCE: mophorlogy',\n",
       " 'sleeped adjective ROOT = sleep SOURCE: mophorlogy',\n",
       " 'presleeped adjective ROOT = sleep SOURCE: mophorlogy',\n",
       " 'sleeps verb ROOT = sleep SOURCE: mophorlogy',\n",
       " 'presleeps verb ROOT = sleep SOURCE: mophorlogy',\n",
       " 'sleeper noun ROOT = sleep SOURCE: mophorlogy',\n",
       " 'presleeper noun ROOT = sleep SOURCE: mophorlogy',\n",
       " 'dressers noun ROOT = dress SOURCE: mophorlogy',\n",
       " 'predressers noun ROOT = dress SOURCE: mophorlogy',\n",
       " 'sleepers noun ROOT = sleep SOURCE: mophorlogy',\n",
       " 'presleepers noun ROOT = sleep SOURCE: mophorlogy',\n",
       " 'sleeps noun ROOT = sleep SOURCE: mophorlogy',\n",
       " 'sleepy adjective ROOT = sleep SOURCE: mophorlogy',\n",
       " 'antisleep adjective ROOT = sleep SOURCE: mophorlogy',\n",
       " 'dressers noun ROOT = dress SOURCE: mophorlogy',\n",
       " 'predressers noun ROOT = dress SOURCE: mophorlogy',\n",
       " 'sleepers noun ROOT = sleep SOURCE: mophorlogy',\n",
       " 'presleepers noun ROOT = sleep SOURCE: mophorlogy',\n",
       " 'slowest adjective ROOT = slow SOURCE: mophorlogy',\n",
       " 'dressers noun ROOT = dress SOURCE: mophorlogy',\n",
       " 'predressers noun ROOT = dress SOURCE: mophorlogy',\n",
       " 'sleepers noun ROOT = sleep SOURCE: mophorlogy',\n",
       " 'presleepers noun ROOT = sleep SOURCE: mophorlogy',\n",
       " 'presit verb ROOT = sit SOURCE: mophorlogy',\n",
       " 'sited verb ROOT = sit SOURCE: mophorlogy',\n",
       " 'presited verb ROOT = sit SOURCE: mophorlogy',\n",
       " 'sited adjective ROOT = sit SOURCE: mophorlogy',\n",
       " 'presited adjective ROOT = sit SOURCE: mophorlogy',\n",
       " 'sits verb ROOT = sit SOURCE: mophorlogy',\n",
       " 'presits verb ROOT = sit SOURCE: mophorlogy',\n",
       " 'siter noun ROOT = sit SOURCE: mophorlogy',\n",
       " 'presiter noun ROOT = sit SOURCE: mophorlogy',\n",
       " 'dressers noun ROOT = dress SOURCE: mophorlogy',\n",
       " 'predressers noun ROOT = dress SOURCE: mophorlogy',\n",
       " 'sleepers noun ROOT = sleep SOURCE: mophorlogy',\n",
       " 'presleepers noun ROOT = sleep SOURCE: mophorlogy',\n",
       " 'siters noun ROOT = sit SOURCE: mophorlogy',\n",
       " 'presiters noun ROOT = sit SOURCE: mophorlogy',\n",
       " 'stores noun ROOT = store SOURCE: mophorlogy',\n",
       " 'storey adjective ROOT = store SOURCE: mophorlogy',\n",
       " 'antistore adjective ROOT = store SOURCE: mophorlogy',\n",
       " 'dressers noun ROOT = dress SOURCE: mophorlogy',\n",
       " 'predressers noun ROOT = dress SOURCE: mophorlogy',\n",
       " 'sleepers noun ROOT = sleep SOURCE: mophorlogy',\n",
       " 'presleepers noun ROOT = sleep SOURCE: mophorlogy',\n",
       " 'siters noun ROOT = sit SOURCE: mophorlogy',\n",
       " 'presiters noun ROOT = sit SOURCE: mophorlogy',\n",
       " 'prestore verb ROOT = store SOURCE: mophorlogy',\n",
       " 'stored verb ROOT = store SOURCE: mophorlogy',\n",
       " 'prestored verb ROOT = store SOURCE: mophorlogy',\n",
       " 'stored adjective ROOT = store SOURCE: mophorlogy',\n",
       " 'prestored adjective ROOT = store SOURCE: mophorlogy',\n",
       " 'dressers noun ROOT = dress SOURCE: mophorlogy',\n",
       " 'predressers noun ROOT = dress SOURCE: mophorlogy',\n",
       " 'sleepers noun ROOT = sleep SOURCE: mophorlogy',\n",
       " 'presleepers noun ROOT = sleep SOURCE: mophorlogy',\n",
       " 'siters noun ROOT = sit SOURCE: mophorlogy',\n",
       " 'presiters noun ROOT = sit SOURCE: mophorlogy',\n",
       " 'preview verb ROOT = view SOURCE: mophorlogy',\n",
       " 'viewed verb ROOT = view SOURCE: mophorlogy',\n",
       " 'previewed verb ROOT = view SOURCE: mophorlogy',\n",
       " 'viewed adjective ROOT = view SOURCE: mophorlogy',\n",
       " 'previewed adjective ROOT = view SOURCE: mophorlogy',\n",
       " 'views verb ROOT = view SOURCE: mophorlogy',\n",
       " 'previews verb ROOT = view SOURCE: mophorlogy',\n",
       " 'viewer noun ROOT = view SOURCE: mophorlogy',\n",
       " 'previewer noun ROOT = view SOURCE: mophorlogy',\n",
       " 'dressers noun ROOT = dress SOURCE: mophorlogy',\n",
       " 'predressers noun ROOT = dress SOURCE: mophorlogy',\n",
       " 'sleepers noun ROOT = sleep SOURCE: mophorlogy',\n",
       " 'presleepers noun ROOT = sleep SOURCE: mophorlogy',\n",
       " 'siters noun ROOT = sit SOURCE: mophorlogy',\n",
       " 'presiters noun ROOT = sit SOURCE: mophorlogy',\n",
       " 'viewers noun ROOT = view SOURCE: mophorlogy',\n",
       " 'previewers noun ROOT = view SOURCE: mophorlogy',\n",
       " 'views noun ROOT = view SOURCE: mophorlogy',\n",
       " 'viewy adjective ROOT = view SOURCE: mophorlogy',\n",
       " 'antiview adjective ROOT = view SOURCE: mophorlogy',\n",
       " 'dressers noun ROOT = dress SOURCE: mophorlogy',\n",
       " 'predressers noun ROOT = dress SOURCE: mophorlogy',\n",
       " 'sleepers noun ROOT = sleep SOURCE: mophorlogy',\n",
       " 'presleepers noun ROOT = sleep SOURCE: mophorlogy',\n",
       " 'siters noun ROOT = sit SOURCE: mophorlogy',\n",
       " 'presiters noun ROOT = sit SOURCE: mophorlogy',\n",
       " 'viewers noun ROOT = view SOURCE: mophorlogy',\n",
       " 'previewers noun ROOT = view SOURCE: mophorlogy',\n",
       " 'prewalk verb ROOT = walk SOURCE: mophorlogy',\n",
       " 'walked verb ROOT = walk SOURCE: mophorlogy',\n",
       " 'prewalked verb ROOT = walk SOURCE: mophorlogy',\n",
       " 'walked adjective ROOT = walk SOURCE: mophorlogy',\n",
       " 'prewalked adjective ROOT = walk SOURCE: mophorlogy',\n",
       " 'walks verb ROOT = walk SOURCE: mophorlogy',\n",
       " 'prewalks verb ROOT = walk SOURCE: mophorlogy',\n",
       " 'walker noun ROOT = walk SOURCE: mophorlogy',\n",
       " 'prewalker noun ROOT = walk SOURCE: mophorlogy',\n",
       " 'dressers noun ROOT = dress SOURCE: mophorlogy',\n",
       " 'predressers noun ROOT = dress SOURCE: mophorlogy',\n",
       " 'sleepers noun ROOT = sleep SOURCE: mophorlogy',\n",
       " 'presleepers noun ROOT = sleep SOURCE: mophorlogy',\n",
       " 'siters noun ROOT = sit SOURCE: mophorlogy',\n",
       " 'presiters noun ROOT = sit SOURCE: mophorlogy',\n",
       " 'viewers noun ROOT = view SOURCE: mophorlogy',\n",
       " 'previewers noun ROOT = view SOURCE: mophorlogy',\n",
       " 'walkers noun ROOT = walk SOURCE: mophorlogy',\n",
       " 'prewalkers noun ROOT = walk SOURCE: mophorlogy']"
      ]
     },
     "execution_count": 187,
     "metadata": {},
     "output_type": "execute_result"
    }
   ],
   "source": [
    "Dic_first"
   ]
  },
  {
   "cell_type": "code",
   "execution_count": 232,
   "metadata": {},
   "outputs": [
    {
     "data": {
      "text/plain": [
       "[]"
      ]
     },
     "execution_count": 232,
     "metadata": {},
     "output_type": "execute_result"
    }
   ],
   "source": [
    "[Dictionary_all[i] for i, j in enumerate(my_Dic_list) if j == 'previewness']"
   ]
  },
  {
   "cell_type": "code",
   "execution_count": null,
   "metadata": {
    "collapsed": true
   },
   "outputs": [],
   "source": []
  }
 ],
 "metadata": {
  "kernelspec": {
   "display_name": "Python 3",
   "language": "python",
   "name": "python3"
  },
  "language_info": {
   "codemirror_mode": {
    "name": "ipython",
    "version": 3
   },
   "file_extension": ".py",
   "mimetype": "text/x-python",
   "name": "python",
   "nbconvert_exporter": "python",
   "pygments_lexer": "ipython3",
   "version": "3.6.5"
  }
 },
 "nbformat": 4,
 "nbformat_minor": 2
}
