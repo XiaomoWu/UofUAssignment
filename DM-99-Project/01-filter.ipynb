{
 "cells": [
  {
   "cell_type": "markdown",
   "metadata": {},
   "source": [
    "### `r.user.stock.mst.1901`"
   ]
  },
  {
   "cell_type": "code",
   "execution_count": 1,
   "metadata": {},
   "outputs": [
    {
     "name": "stdout",
     "output_type": "stream",
     "text": [
      "' r.user.stock.mst.1901 ' successfully loaded \n",
      "Use 2.83 mins \n",
      "\n"
     ]
    }
   ],
   "source": [
    "ld(r.user.stock.mst.1901)"
   ]
  },
  {
   "cell_type": "markdown",
   "metadata": {},
   "source": [
    "Let's take a look. You should NOT use ``r.user.stock.mst.1901``, it takes forever to print the table, instead, user ``r.user.stock.mst.1901[1:5]``"
   ]
  },
  {
   "cell_type": "code",
   "execution_count": 4,
   "metadata": {},
   "outputs": [
    {
     "data": {
      "text/html": [
       "<table>\n",
       "<thead><tr><th scope=col>code</th><th scope=col>comment</th><th scope=col>sellPrice</th><th scope=col>buyPrice</th><th scope=col>portfolioIds</th><th scope=col>createAt</th><th scope=col>targetPercent</th><th scope=col>isNotice</th><th scope=col>exchange</th><th scope=col>user.id</th><th scope=col>is.public</th><th scope=col>stockName</th><th scope=col>count</th><th scope=col>stockType</th><th scope=col>lastcrawl</th><th scope=col>n</th></tr></thead>\n",
       "<tbody>\n",
       "\t<tr><td>ZH030505                                </td><td>                                        </td><td>-1                                      </td><td>-1                                      </td><td>-1,                                     </td><td>1.517046e+12                            </td><td>-1                                      </td><td>1                                       </td><td>ZHHK                                    </td><td>1000005225                              </td><td>TRUE                                    </td><td>                                        </td><td>  2                                     </td><td>                                        </td><td>1810                                    </td><td>1                                       </td></tr>\n",
       "\t<tr><td>ZH1262123                               </td><td>                                        </td><td>-1                                      </td><td>-1                                      </td><td>-1,                                     </td><td>1.517046e+12                            </td><td>-1                                      </td><td>1                                       </td><td>ZHHK                                    </td><td>1000005225                              </td><td>TRUE                                    </td><td>                                        </td><td>  2                                     </td><td>                                        </td><td>1810                                    </td><td>1                                       </td></tr>\n",
       "\t<tr><td><span style=white-space:pre-wrap>.DJI     </span>                     </td><td>                                                                      </td><td>-1                                                                    </td><td>-1                                                                    </td><td>-1,                                                                   </td><td>0.000000e+00                                                          </td><td> 7                                                                    </td><td>1                                                                     </td><td>INDEXDJX                                                              </td><td>1000005331                                                            </td><td>TRUE                                                                  </td><td>&lt;U+9053&gt;&lt;U+743C&gt;&lt;U+65AF&gt;&lt;U+6307&gt;&lt;U+6570&gt;</td><td>124                                                                   </td><td>3                                                                     </td><td>1901                                                                  </td><td>1                                                                     </td></tr>\n",
       "\t<tr><td>.DJI                                    </td><td>                                        </td><td>-1                                      </td><td>-1                                      </td><td>-1,                                     </td><td>1.523415e+12                            </td><td> 7                                      </td><td>1                                       </td><td>INDEXDJX                                </td><td>1000005331                              </td><td>TRUE                                    </td><td>                                        </td><td>136                                     </td><td>                                        </td><td>1810                                    </td><td>2                                       </td></tr>\n",
       "\t<tr><td><span style=white-space:pre-wrap>.DJI     </span>                     </td><td>                                                                      </td><td>-1                                                                    </td><td>-1                                                                    </td><td>-1,                                                                   </td><td>1.523415e+12                                                          </td><td> 7                                                                    </td><td>1                                                                     </td><td>INDEXDJX                                                              </td><td>1000005331                                                            </td><td>TRUE                                                                  </td><td>&lt;U+9053&gt;&lt;U+743C&gt;&lt;U+65AF&gt;&lt;U+6307&gt;&lt;U+6570&gt;</td><td>134                                                                   </td><td>3                                                                     </td><td>1806                                                                  </td><td>2                                                                     </td></tr>\n",
       "</tbody>\n",
       "</table>\n"
      ],
      "text/latex": [
       "\\begin{tabular}{r|llllllllllllllll}\n",
       " code & comment & sellPrice & buyPrice & portfolioIds & createAt & targetPercent & isNotice & exchange & user.id & is.public & stockName & count & stockType & lastcrawl & n\\\\\n",
       "\\hline\n",
       "\t ZH030505                                 &                                          & -1                                       & -1                                       & -1,                                      & 1.517046e+12                             & -1                                       & 1                                        & ZHHK                                     & 1000005225                               & TRUE                                     &                                          &   2                                      &                                          & 1810                                     & 1                                       \\\\\n",
       "\t ZH1262123                                &                                          & -1                                       & -1                                       & -1,                                      & 1.517046e+12                             & -1                                       & 1                                        & ZHHK                                     & 1000005225                               & TRUE                                     &                                          &   2                                      &                                          & 1810                                     & 1                                       \\\\\n",
       "\t .DJI                                     &                                          & -1                                       & -1                                       & -1,                                      & 0.000000e+00                             &  7                                       & 1                                        & INDEXDJX                                 & 1000005331                               & TRUE                                     & <U+9053><U+743C><U+65AF><U+6307><U+6570> & 124                                      & 3                                        & 1901                                     & 1                                       \\\\\n",
       "\t .DJI                                     &                                          & -1                                       & -1                                       & -1,                                      & 1.523415e+12                             &  7                                       & 1                                        & INDEXDJX                                 & 1000005331                               & TRUE                                     &                                          & 136                                      &                                          & 1810                                     & 2                                       \\\\\n",
       "\t .DJI                                     &                                          & -1                                       & -1                                       & -1,                                      & 1.523415e+12                             &  7                                       & 1                                        & INDEXDJX                                 & 1000005331                               & TRUE                                     & <U+9053><U+743C><U+65AF><U+6307><U+6570> & 134                                      & 3                                        & 1806                                     & 2                                       \\\\\n",
       "\\end{tabular}\n"
      ],
      "text/markdown": [
       "\n",
       "code | comment | sellPrice | buyPrice | portfolioIds | createAt | targetPercent | isNotice | exchange | user.id | is.public | stockName | count | stockType | lastcrawl | n | \n",
       "|---|---|---|---|---|\n",
       "| ZH030505                                 |                                          | -1                                       | -1                                       | -1,                                      | 1.517046e+12                             | -1                                       | 1                                        | ZHHK                                     | 1000005225                               | TRUE                                     |                                          |   2                                      |                                          | 1810                                     | 1                                        | \n",
       "| ZH1262123                                |                                          | -1                                       | -1                                       | -1,                                      | 1.517046e+12                             | -1                                       | 1                                        | ZHHK                                     | 1000005225                               | TRUE                                     |                                          |   2                                      |                                          | 1810                                     | 1                                        | \n",
       "| .DJI                                     |                                          | -1                                       | -1                                       | -1,                                      | 0.000000e+00                             |  7                                       | 1                                        | INDEXDJX                                 | 1000005331                               | TRUE                                     | <U+9053><U+743C><U+65AF><U+6307><U+6570> | 124                                      | 3                                        | 1901                                     | 1                                        | \n",
       "| .DJI                                     |                                          | -1                                       | -1                                       | -1,                                      | 1.523415e+12                             |  7                                       | 1                                        | INDEXDJX                                 | 1000005331                               | TRUE                                     |                                          | 136                                      |                                          | 1810                                     | 2                                        | \n",
       "| .DJI                                     |                                          | -1                                       | -1                                       | -1,                                      | 1.523415e+12                             |  7                                       | 1                                        | INDEXDJX                                 | 1000005331                               | TRUE                                     | <U+9053><U+743C><U+65AF><U+6307><U+6570> | 134                                      | 3                                        | 1806                                     | 2                                        | \n",
       "\n",
       "\n"
      ],
      "text/plain": [
       "  code      comment sellPrice buyPrice portfolioIds createAt     targetPercent\n",
       "1 ZH030505          -1        -1       -1,          1.517046e+12 -1           \n",
       "2 ZH1262123         -1        -1       -1,          1.517046e+12 -1           \n",
       "3 .DJI              -1        -1       -1,          0.000000e+00  7           \n",
       "4 .DJI              -1        -1       -1,          1.523415e+12  7           \n",
       "5 .DJI              -1        -1       -1,          1.523415e+12  7           \n",
       "  isNotice exchange user.id    is.public\n",
       "1 1        ZHHK     1000005225 TRUE     \n",
       "2 1        ZHHK     1000005225 TRUE     \n",
       "3 1        INDEXDJX 1000005331 TRUE     \n",
       "4 1        INDEXDJX 1000005331 TRUE     \n",
       "5 1        INDEXDJX 1000005331 TRUE     \n",
       "  stockName                                count stockType lastcrawl n\n",
       "1                                            2             1810      1\n",
       "2                                            2             1810      1\n",
       "3 <U+9053><U+743C><U+65AF><U+6307><U+6570> 124   3         1901      1\n",
       "4                                          136             1810      2\n",
       "5 <U+9053><U+743C><U+65AF><U+6307><U+6570> 134   3         1806      2"
      ]
     },
     "metadata": {},
     "output_type": "display_data"
    }
   ],
   "source": [
    "r.user.stock.mst.1901[1:5]"
   ]
  },
  {
   "cell_type": "markdown",
   "metadata": {},
   "source": [
    "We only select the following columns:"
   ]
  },
  {
   "cell_type": "code",
   "execution_count": 10,
   "metadata": {},
   "outputs": [
    {
     "data": {
      "text/html": [
       "<table>\n",
       "<thead><tr><th scope=col>user.id</th><th scope=col>create.at</th><th scope=col>code</th><th scope=col>exchange</th></tr></thead>\n",
       "<tbody>\n",
       "\t<tr><td>1000005225         </td><td>2018-01-27 09:44:34</td><td>ZH030505           </td><td>ZHHK               </td></tr>\n",
       "\t<tr><td>1000005225         </td><td>2018-01-27 09:42:18</td><td>ZH1262123          </td><td>ZHHK               </td></tr>\n",
       "\t<tr><td>1000005331         </td><td>1970-01-01 00:00:00</td><td>.DJI               </td><td>INDEXDJX           </td></tr>\n",
       "\t<tr><td>1000005331         </td><td>2018-04-11 02:57:16</td><td>.DJI               </td><td>INDEXDJX           </td></tr>\n",
       "\t<tr><td>1000005331         </td><td>1970-01-01 00:00:00</td><td>.IXIC              </td><td>INDEXNASDAQ        </td></tr>\n",
       "</tbody>\n",
       "</table>\n"
      ],
      "text/latex": [
       "\\begin{tabular}{r|llll}\n",
       " user.id & create.at & code & exchange\\\\\n",
       "\\hline\n",
       "\t 1000005225          & 2018-01-27 09:44:34 & ZH030505            & ZHHK               \\\\\n",
       "\t 1000005225          & 2018-01-27 09:42:18 & ZH1262123           & ZHHK               \\\\\n",
       "\t 1000005331          & 1970-01-01 00:00:00 & .DJI                & INDEXDJX           \\\\\n",
       "\t 1000005331          & 2018-04-11 02:57:16 & .DJI                & INDEXDJX           \\\\\n",
       "\t 1000005331          & 1970-01-01 00:00:00 & .IXIC               & INDEXNASDAQ        \\\\\n",
       "\\end{tabular}\n"
      ],
      "text/markdown": [
       "\n",
       "user.id | create.at | code | exchange | \n",
       "|---|---|---|---|---|\n",
       "| 1000005225          | 2018-01-27 09:44:34 | ZH030505            | ZHHK                | \n",
       "| 1000005225          | 2018-01-27 09:42:18 | ZH1262123           | ZHHK                | \n",
       "| 1000005331          | 1970-01-01 00:00:00 | .DJI                | INDEXDJX            | \n",
       "| 1000005331          | 2018-04-11 02:57:16 | .DJI                | INDEXDJX            | \n",
       "| 1000005331          | 1970-01-01 00:00:00 | .IXIC               | INDEXNASDAQ         | \n",
       "\n",
       "\n"
      ],
      "text/plain": [
       "  user.id    create.at           code      exchange   \n",
       "1 1000005225 2018-01-27 09:44:34 ZH030505  ZHHK       \n",
       "2 1000005225 2018-01-27 09:42:18 ZH1262123 ZHHK       \n",
       "3 1000005331 1970-01-01 00:00:00 .DJI      INDEXDJX   \n",
       "4 1000005331 2018-04-11 02:57:16 .DJI      INDEXDJX   \n",
       "5 1000005331 1970-01-01 00:00:00 .IXIC     INDEXNASDAQ"
      ]
     },
     "metadata": {},
     "output_type": "display_data"
    }
   ],
   "source": [
    "user.stock <- r.user.stock.mst.1901[, .(user.id, create.at = as.POSIXct(createAt / 1000, origin = \"1970-01-01\", tz = \"GMT\"), code, exchange)\n",
    "                                   ] %>% unique()\n",
    "user.stock[1:5]"
   ]
  },
  {
   "cell_type": "markdown",
   "metadata": {},
   "source": [
    "save the dataset!"
   ]
  },
  {
   "cell_type": "code",
   "execution_count": 11,
   "metadata": {},
   "outputs": [
    {
     "name": "stdout",
     "output_type": "stream",
     "text": [
      "'user.stock' successfully saved\n",
      "Use 1.03 mins \n",
      "\n"
     ]
    }
   ],
   "source": [
    "sv(user.stock)"
   ]
  },
  {
   "cell_type": "markdown",
   "metadata": {},
   "source": [
    "### `r.cube.rb.mst.1901`"
   ]
  },
  {
   "cell_type": "code",
   "execution_count": 15,
   "metadata": {},
   "outputs": [
    {
     "data": {
      "text/html": [],
      "text/latex": [],
      "text/markdown": [],
      "text/plain": [
       "character(0)"
      ]
     },
     "metadata": {},
     "output_type": "display_data"
    }
   ],
   "source": [
    "rm(list = ls())\n",
    "ls()"
   ]
  },
  {
   "cell_type": "markdown",
   "metadata": {},
   "source": [
    "Load and take a look:"
   ]
  },
  {
   "cell_type": "code",
   "execution_count": 1,
   "metadata": {},
   "outputs": [
    {
     "name": "stdout",
     "output_type": "stream",
     "text": [
      "' r.cube.rb.mst.1901 ' successfully loaded \n",
      "Use 2.28 mins \n",
      "\n"
     ]
    },
    {
     "data": {
      "text/html": [
       "<table>\n",
       "<thead><tr><th scope=col>id</th><th scope=col>rebalancing.id</th><th scope=col>cube.symbol</th><th scope=col>stock.symbol</th><th scope=col>price</th><th scope=col>created.at</th><th scope=col>target.weight</th><th scope=col>prev.weight.adjusted</th><th scope=col>cube.type</th><th scope=col>comment</th><th scope=col>...</th><th scope=col>prev.target.volume</th><th scope=col>volume</th><th scope=col>prev.weight</th><th scope=col>prev.volume</th><th scope=col>net.value</th><th scope=col>prev.price</th><th scope=col>prev.target.weight</th><th scope=col>target.volume</th><th scope=col>lastcrawl</th><th scope=col>stock.name</th></tr></thead>\n",
       "<tbody>\n",
       "\t<tr><td>NA                 </td><td>NA                 </td><td>SP1000047          </td><td>SH600886           </td><td> 7.49              </td><td>2017-03-19 19:25:00</td><td> 0.70              </td><td> 0.90              </td><td>SP                 </td><td>NA                 </td><td>...                </td><td>NA                 </td><td>NA                 </td><td>NA                 </td><td>NA                 </td><td>NA                 </td><td>NA                 </td><td>NA                 </td><td>NA                 </td><td>1709               </td><td>NA                 </td></tr>\n",
       "\t<tr><td>NA                 </td><td>NA                 </td><td>SP1000064          </td><td>SH600315           </td><td>29.43              </td><td>2017-03-19 23:00:03</td><td> 3.78              </td><td> 7.57              </td><td>SP                 </td><td>NA                 </td><td>...                </td><td>NA                 </td><td>NA                 </td><td>NA                 </td><td>NA                 </td><td>NA                 </td><td>NA                 </td><td>NA                 </td><td>NA                 </td><td>1709               </td><td>NA                 </td></tr>\n",
       "\t<tr><td>NA                 </td><td>NA                 </td><td>SP1000064          </td><td>SH600315           </td><td>29.44              </td><td>2017-03-19 23:00:03</td><td> 0.00              </td><td> 3.78              </td><td>SP                 </td><td>NA                 </td><td>...                </td><td>NA                 </td><td>NA                 </td><td>NA                 </td><td>NA                 </td><td>NA                 </td><td>NA                 </td><td>NA                 </td><td>NA                 </td><td>1709               </td><td>NA                 </td></tr>\n",
       "\t<tr><td>NA                 </td><td>NA                 </td><td>SP1000064          </td><td>SH600479           </td><td>13.57              </td><td>2017-09-11 20:06:10</td><td>11.81              </td><td> 9.56              </td><td>SP                 </td><td>NA                 </td><td>...                </td><td>NA                 </td><td>NA                 </td><td>NA                 </td><td>NA                 </td><td>NA                 </td><td>NA                 </td><td>NA                 </td><td>NA                 </td><td>1709               </td><td>NA                 </td></tr>\n",
       "\t<tr><td>NA                 </td><td>NA                 </td><td>SP1000064          </td><td>SH600479           </td><td>13.57              </td><td>2017-09-11 20:06:13</td><td>12.37              </td><td>11.81              </td><td>SP                 </td><td>NA                 </td><td>...                </td><td>NA                 </td><td>NA                 </td><td>NA                 </td><td>NA                 </td><td>NA                 </td><td>NA                 </td><td>NA                 </td><td>NA                 </td><td>1709               </td><td>NA                 </td></tr>\n",
       "</tbody>\n",
       "</table>\n"
      ],
      "text/latex": [
       "\\begin{tabular}{r|llllllllllllllllllllllllll}\n",
       " id & rebalancing.id & cube.symbol & stock.symbol & price & created.at & target.weight & prev.weight.adjusted & cube.type & comment & ... & prev.target.volume & volume & prev.weight & prev.volume & net.value & prev.price & prev.target.weight & target.volume & lastcrawl & stock.name\\\\\n",
       "\\hline\n",
       "\t NA                  & NA                  & SP1000047           & SH600886            &  7.49               & 2017-03-19 19:25:00 &  0.70               &  0.90               & SP                  & NA                  & ...                 & NA                  & NA                  & NA                  & NA                  & NA                  & NA                  & NA                  & NA                  & 1709                & NA                 \\\\\n",
       "\t NA                  & NA                  & SP1000064           & SH600315            & 29.43               & 2017-03-19 23:00:03 &  3.78               &  7.57               & SP                  & NA                  & ...                 & NA                  & NA                  & NA                  & NA                  & NA                  & NA                  & NA                  & NA                  & 1709                & NA                 \\\\\n",
       "\t NA                  & NA                  & SP1000064           & SH600315            & 29.44               & 2017-03-19 23:00:03 &  0.00               &  3.78               & SP                  & NA                  & ...                 & NA                  & NA                  & NA                  & NA                  & NA                  & NA                  & NA                  & NA                  & 1709                & NA                 \\\\\n",
       "\t NA                  & NA                  & SP1000064           & SH600479            & 13.57               & 2017-09-11 20:06:10 & 11.81               &  9.56               & SP                  & NA                  & ...                 & NA                  & NA                  & NA                  & NA                  & NA                  & NA                  & NA                  & NA                  & 1709                & NA                 \\\\\n",
       "\t NA                  & NA                  & SP1000064           & SH600479            & 13.57               & 2017-09-11 20:06:13 & 12.37               & 11.81               & SP                  & NA                  & ...                 & NA                  & NA                  & NA                  & NA                  & NA                  & NA                  & NA                  & NA                  & 1709                & NA                 \\\\\n",
       "\\end{tabular}\n"
      ],
      "text/markdown": [
       "\n",
       "id | rebalancing.id | cube.symbol | stock.symbol | price | created.at | target.weight | prev.weight.adjusted | cube.type | comment | ... | prev.target.volume | volume | prev.weight | prev.volume | net.value | prev.price | prev.target.weight | target.volume | lastcrawl | stock.name | \n",
       "|---|---|---|---|---|\n",
       "| NA                  | NA                  | SP1000047           | SH600886            |  7.49               | 2017-03-19 19:25:00 |  0.70               |  0.90               | SP                  | NA                  | ...                 | NA                  | NA                  | NA                  | NA                  | NA                  | NA                  | NA                  | NA                  | 1709                | NA                  | \n",
       "| NA                  | NA                  | SP1000064           | SH600315            | 29.43               | 2017-03-19 23:00:03 |  3.78               |  7.57               | SP                  | NA                  | ...                 | NA                  | NA                  | NA                  | NA                  | NA                  | NA                  | NA                  | NA                  | 1709                | NA                  | \n",
       "| NA                  | NA                  | SP1000064           | SH600315            | 29.44               | 2017-03-19 23:00:03 |  0.00               |  3.78               | SP                  | NA                  | ...                 | NA                  | NA                  | NA                  | NA                  | NA                  | NA                  | NA                  | NA                  | 1709                | NA                  | \n",
       "| NA                  | NA                  | SP1000064           | SH600479            | 13.57               | 2017-09-11 20:06:10 | 11.81               |  9.56               | SP                  | NA                  | ...                 | NA                  | NA                  | NA                  | NA                  | NA                  | NA                  | NA                  | NA                  | 1709                | NA                  | \n",
       "| NA                  | NA                  | SP1000064           | SH600479            | 13.57               | 2017-09-11 20:06:13 | 12.37               | 11.81               | SP                  | NA                  | ...                 | NA                  | NA                  | NA                  | NA                  | NA                  | NA                  | NA                  | NA                  | 1709                | NA                  | \n",
       "\n",
       "\n"
      ],
      "text/plain": [
       "  id rebalancing.id cube.symbol stock.symbol price created.at         \n",
       "1 NA NA             SP1000047   SH600886      7.49 2017-03-19 19:25:00\n",
       "2 NA NA             SP1000064   SH600315     29.43 2017-03-19 23:00:03\n",
       "3 NA NA             SP1000064   SH600315     29.44 2017-03-19 23:00:03\n",
       "4 NA NA             SP1000064   SH600479     13.57 2017-09-11 20:06:10\n",
       "5 NA NA             SP1000064   SH600479     13.57 2017-09-11 20:06:13\n",
       "  target.weight prev.weight.adjusted cube.type comment ... prev.target.volume\n",
       "1  0.70          0.90                SP        NA      ... NA                \n",
       "2  3.78          7.57                SP        NA      ... NA                \n",
       "3  0.00          3.78                SP        NA      ... NA                \n",
       "4 11.81          9.56                SP        NA      ... NA                \n",
       "5 12.37         11.81                SP        NA      ... NA                \n",
       "  volume prev.weight prev.volume net.value prev.price prev.target.weight\n",
       "1 NA     NA          NA          NA        NA         NA                \n",
       "2 NA     NA          NA          NA        NA         NA                \n",
       "3 NA     NA          NA          NA        NA         NA                \n",
       "4 NA     NA          NA          NA        NA         NA                \n",
       "5 NA     NA          NA          NA        NA         NA                \n",
       "  target.volume lastcrawl stock.name\n",
       "1 NA            1709      NA        \n",
       "2 NA            1709      NA        \n",
       "3 NA            1709      NA        \n",
       "4 NA            1709      NA        \n",
       "5 NA            1709      NA        "
      ]
     },
     "metadata": {},
     "output_type": "display_data"
    }
   ],
   "source": [
    "ld(r.cube.rb.mst.1901)\n",
    "r.cube.rb.mst.1901[1:5]"
   ]
  },
  {
   "cell_type": "markdown",
   "metadata": {},
   "source": [
    "We only need these variables:"
   ]
  },
  {
   "cell_type": "code",
   "execution_count": 2,
   "metadata": {},
   "outputs": [
    {
     "data": {
      "text/html": [
       "<ol class=list-inline>\n",
       "\t<li>'id'</li>\n",
       "\t<li>'rebalancing.id'</li>\n",
       "\t<li>'cube.symbol'</li>\n",
       "\t<li>'stock.symbol'</li>\n",
       "\t<li>'price'</li>\n",
       "\t<li>'created.at'</li>\n",
       "\t<li>'target.weight'</li>\n",
       "\t<li>'prev.weight.adjusted'</li>\n",
       "\t<li>'cube.type'</li>\n",
       "\t<li>'comment'</li>\n",
       "\t<li>'cash'</li>\n",
       "\t<li>'cash.value'</li>\n",
       "\t<li>'stock.id'</li>\n",
       "\t<li>'proactive'</li>\n",
       "\t<li>'weight'</li>\n",
       "\t<li>'prev.net.value'</li>\n",
       "\t<li>'prev.target.volume'</li>\n",
       "\t<li>'volume'</li>\n",
       "\t<li>'prev.weight'</li>\n",
       "\t<li>'prev.volume'</li>\n",
       "\t<li>'net.value'</li>\n",
       "\t<li>'prev.price'</li>\n",
       "\t<li>'prev.target.weight'</li>\n",
       "\t<li>'target.volume'</li>\n",
       "\t<li>'lastcrawl'</li>\n",
       "\t<li>'stock.name'</li>\n",
       "</ol>\n"
      ],
      "text/latex": [
       "\\begin{enumerate*}\n",
       "\\item 'id'\n",
       "\\item 'rebalancing.id'\n",
       "\\item 'cube.symbol'\n",
       "\\item 'stock.symbol'\n",
       "\\item 'price'\n",
       "\\item 'created.at'\n",
       "\\item 'target.weight'\n",
       "\\item 'prev.weight.adjusted'\n",
       "\\item 'cube.type'\n",
       "\\item 'comment'\n",
       "\\item 'cash'\n",
       "\\item 'cash.value'\n",
       "\\item 'stock.id'\n",
       "\\item 'proactive'\n",
       "\\item 'weight'\n",
       "\\item 'prev.net.value'\n",
       "\\item 'prev.target.volume'\n",
       "\\item 'volume'\n",
       "\\item 'prev.weight'\n",
       "\\item 'prev.volume'\n",
       "\\item 'net.value'\n",
       "\\item 'prev.price'\n",
       "\\item 'prev.target.weight'\n",
       "\\item 'target.volume'\n",
       "\\item 'lastcrawl'\n",
       "\\item 'stock.name'\n",
       "\\end{enumerate*}\n"
      ],
      "text/markdown": [
       "1. 'id'\n",
       "2. 'rebalancing.id'\n",
       "3. 'cube.symbol'\n",
       "4. 'stock.symbol'\n",
       "5. 'price'\n",
       "6. 'created.at'\n",
       "7. 'target.weight'\n",
       "8. 'prev.weight.adjusted'\n",
       "9. 'cube.type'\n",
       "10. 'comment'\n",
       "11. 'cash'\n",
       "12. 'cash.value'\n",
       "13. 'stock.id'\n",
       "14. 'proactive'\n",
       "15. 'weight'\n",
       "16. 'prev.net.value'\n",
       "17. 'prev.target.volume'\n",
       "18. 'volume'\n",
       "19. 'prev.weight'\n",
       "20. 'prev.volume'\n",
       "21. 'net.value'\n",
       "22. 'prev.price'\n",
       "23. 'prev.target.weight'\n",
       "24. 'target.volume'\n",
       "25. 'lastcrawl'\n",
       "26. 'stock.name'\n",
       "\n",
       "\n"
      ],
      "text/plain": [
       " [1] \"id\"                   \"rebalancing.id\"       \"cube.symbol\"         \n",
       " [4] \"stock.symbol\"         \"price\"                \"created.at\"          \n",
       " [7] \"target.weight\"        \"prev.weight.adjusted\" \"cube.type\"           \n",
       "[10] \"comment\"              \"cash\"                 \"cash.value\"          \n",
       "[13] \"stock.id\"             \"proactive\"            \"weight\"              \n",
       "[16] \"prev.net.value\"       \"prev.target.volume\"   \"volume\"              \n",
       "[19] \"prev.weight\"          \"prev.volume\"          \"net.value\"           \n",
       "[22] \"prev.price\"           \"prev.target.weight\"   \"target.volume\"       \n",
       "[25] \"lastcrawl\"            \"stock.name\"          "
      ]
     },
     "metadata": {},
     "output_type": "display_data"
    }
   ],
   "source": [
    "names(r.cube.rb.mst.1901)"
   ]
  },
  {
   "cell_type": "code",
   "execution_count": 6,
   "metadata": {},
   "outputs": [],
   "source": [
    "cube.rb <- r.cube.rb.mst.1901[, .(cube.symbol, created.at, stock.symbol, price, prev.weight.adjusted, target.weight)] %>% unique()"
   ]
  },
  {
   "cell_type": "code",
   "execution_count": 7,
   "metadata": {
    "scrolled": true
   },
   "outputs": [
    {
     "data": {
      "text/html": [
       "<table>\n",
       "<thead><tr><th scope=col>cube.symbol</th><th scope=col>created.at</th><th scope=col>stock.symbol</th><th scope=col>price</th><th scope=col>prev.weight.adjusted</th><th scope=col>target.weight</th></tr></thead>\n",
       "<tbody>\n",
       "\t<tr><td>SP1000047          </td><td>2017-03-19 19:25:00</td><td>SH600886           </td><td> 7.49              </td><td> 0.90              </td><td> 0.70              </td></tr>\n",
       "\t<tr><td>SP1000064          </td><td>2017-03-19 23:00:03</td><td>SH600315           </td><td>29.43              </td><td> 7.57              </td><td> 3.78              </td></tr>\n",
       "\t<tr><td>SP1000064          </td><td>2017-03-19 23:00:03</td><td>SH600315           </td><td>29.44              </td><td> 3.78              </td><td> 0.00              </td></tr>\n",
       "\t<tr><td>SP1000064          </td><td>2017-09-11 20:06:10</td><td>SH600479           </td><td>13.57              </td><td> 9.56              </td><td>11.81              </td></tr>\n",
       "\t<tr><td>SP1000064          </td><td>2017-09-11 20:06:13</td><td>SH600479           </td><td>13.57              </td><td>11.81              </td><td>12.37              </td></tr>\n",
       "\t<tr><td>SP1000064          </td><td>2017-03-19 19:46:48</td><td>SH600664           </td><td> 8.30              </td><td> 0.00              </td><td> 0.43              </td></tr>\n",
       "\t<tr><td>SP1000064          </td><td>2017-03-19 20:25:24</td><td>SH600664           </td><td> 8.30              </td><td> 0.85              </td><td> 1.07              </td></tr>\n",
       "\t<tr><td>SP1000064          </td><td>2017-03-19 20:15:33</td><td>SH600664           </td><td> 8.31              </td><td> 0.43              </td><td> 0.64              </td></tr>\n",
       "\t<tr><td>SP1000064          </td><td>2017-03-19 20:25:12</td><td>SH600664           </td><td> 8.31              </td><td> 0.64              </td><td> 0.85              </td></tr>\n",
       "\t<tr><td>SP1000070          </td><td>2019-01-06 19:54:34</td><td>SH600797           </td><td> 7.71              </td><td>14.42              </td><td> 0.00              </td></tr>\n",
       "\t<tr><td>SP1000070          </td><td>2019-01-06 19:58:42</td><td>SZ002413           </td><td> 5.95              </td><td>87.99              </td><td>85.44              </td></tr>\n",
       "\t<tr><td>SP1000070          </td><td>2019-01-06 19:59:15</td><td>SZ002413           </td><td> 5.95              </td><td>84.96              </td><td>69.74              </td></tr>\n",
       "\t<tr><td>SP1000070          </td><td>2019-01-06 19:59:26</td><td>SZ002413           </td><td> 5.95              </td><td>67.99              </td><td> 0.00              </td></tr>\n",
       "\t<tr><td>SP1000070          </td><td>2019-01-06 23:02:46</td><td>SZ002933           </td><td>43.42              </td><td> 0.00              </td><td>75.21              </td></tr>\n",
       "\t<tr><td>SP1000070          </td><td>2019-01-06 23:02:52</td><td>SZ002933           </td><td>43.42              </td><td>75.27              </td><td>93.38              </td></tr>\n",
       "\t<tr><td>SP1000070          </td><td>2019-01-06 23:02:53</td><td>SZ002933           </td><td>43.42              </td><td>93.41              </td><td>99.66              </td></tr>\n",
       "\t<tr><td>SP1000071          </td><td>2017-03-19 23:20:17</td><td>SZ000670           </td><td> 8.20              </td><td> 5.71              </td><td> 0.00              </td></tr>\n",
       "\t<tr><td>SP1000071          </td><td>2017-03-19 23:23:02</td><td>SZ300360           </td><td>18.82              </td><td> 9.83              </td><td> 6.55              </td></tr>\n",
       "\t<tr><td>SP1000071          </td><td>2017-03-19 23:23:02</td><td>SZ300360           </td><td>18.82              </td><td>13.11              </td><td> 9.83              </td></tr>\n",
       "\t<tr><td>SP1000071          </td><td>2017-03-19 23:23:02</td><td>SZ300360           </td><td>18.82              </td><td>16.39              </td><td>13.11              </td></tr>\n",
       "\t<tr><td>SP1000071          </td><td>2017-03-19 19:55:54</td><td>SZ300360           </td><td>18.83              </td><td> 9.84              </td><td>16.40              </td></tr>\n",
       "\t<tr><td>SP1000071          </td><td>2017-03-19 23:34:19</td><td>SZ300427           </td><td>26.89              </td><td>32.97              </td><td>42.39              </td></tr>\n",
       "\t<tr><td>SP1000071          </td><td>2017-03-19 23:22:41</td><td>SZ300427           </td><td>26.91              </td><td>28.23              </td><td>32.94              </td></tr>\n",
       "\t<tr><td>SP1000071          </td><td>2017-03-19 19:25:00</td><td>SZ300427           </td><td>26.95              </td><td>28.26              </td><td>32.97              </td></tr>\n",
       "\t<tr><td>SP1000071          </td><td>2017-03-19 19:40:52</td><td>SZ300427           </td><td>27.95              </td><td>33.82              </td><td>28.99              </td></tr>\n",
       "\t<tr><td>SP1000072          </td><td>2017-03-19 19:53:01</td><td>SH601611           </td><td>18.12              </td><td>13.77              </td><td> 8.26              </td></tr>\n",
       "\t<tr><td>SP1000074          </td><td>2019-01-06 19:17:20</td><td>SH603220           </td><td>21.33              </td><td> 0.00              </td><td>29.59              </td></tr>\n",
       "\t<tr><td>SP1000074          </td><td>2019-01-06 19:17:25</td><td>SH603220           </td><td>21.33              </td><td>29.58              </td><td>33.27              </td></tr>\n",
       "\t<tr><td>SP1000075          </td><td>2017-03-19 20:27:21</td><td>SH600577           </td><td> 7.44              </td><td> 0.00              </td><td>11.34              </td></tr>\n",
       "\t<tr><td>SP1000075          </td><td>2019-01-06 22:50:46</td><td>SH600621           </td><td> 9.72              </td><td>47.32              </td><td>40.84              </td></tr>\n",
       "\t<tr><td>...</td><td>...</td><td>...</td><td>...</td><td>...</td><td>...</td></tr>\n",
       "\t<tr><td>SP1000088          </td><td>2018-10-18 23:05:44</td><td>SH600079           </td><td> 10.61             </td><td> 0.06              </td><td> 0.00              </td></tr>\n",
       "\t<tr><td>SP1000088          </td><td>2018-10-18 23:05:44</td><td>SH600079           </td><td> 10.62             </td><td> 1.36              </td><td> 0.06              </td></tr>\n",
       "\t<tr><td>SP1000088          </td><td>2018-10-18 23:04:58</td><td>SH600276           </td><td> 55.83             </td><td> 2.16              </td><td> 0.00              </td></tr>\n",
       "\t<tr><td>SP1000088          </td><td>2018-10-18 23:10:46</td><td>SH600519           </td><td>650.00             </td><td> 0.00              </td><td> 3.87              </td></tr>\n",
       "\t<tr><td>SP1000088          </td><td>2018-10-18 23:12:04</td><td>SH603605           </td><td> 34.27             </td><td> 3.16              </td><td> 5.10              </td></tr>\n",
       "\t<tr><td>SP1000088          </td><td>2018-10-18 23:12:51</td><td>SZ000402           </td><td>  5.92             </td><td> 0.88              </td><td> 0.86              </td></tr>\n",
       "\t<tr><td>SP1000088          </td><td>2018-10-18 23:13:09</td><td>SZ000402           </td><td>  5.92             </td><td> 0.86              </td><td> 0.74              </td></tr>\n",
       "\t<tr><td>SP1000088          </td><td>2018-10-18 23:13:16</td><td>SZ000402           </td><td>  5.92             </td><td> 0.74              </td><td> 0.69              </td></tr>\n",
       "\t<tr><td>SP1000088          </td><td>2018-10-18 23:13:19</td><td>SZ000402           </td><td>  5.92             </td><td> 0.69              </td><td> 0.67              </td></tr>\n",
       "\t<tr><td>SP1000088          </td><td>2018-10-18 23:16:12</td><td>SZ000402           </td><td>  5.92             </td><td> 0.67              </td><td> 0.00              </td></tr>\n",
       "\t<tr><td>SP1000088          </td><td>2018-10-18 23:01:56</td><td>SZ000423           </td><td> 38.86             </td><td> 2.89              </td><td> 2.20              </td></tr>\n",
       "\t<tr><td>SP1000088          </td><td>2018-10-18 23:08:30</td><td>SZ000423           </td><td> 38.88             </td><td> 2.20              </td><td> 0.00              </td></tr>\n",
       "\t<tr><td>SP1000088          </td><td>2018-10-18 23:12:43</td><td>SZ000488           </td><td>  5.44             </td><td> 1.29              </td><td> 0.00              </td></tr>\n",
       "\t<tr><td>SP1000088          </td><td>2018-10-18 23:15:35</td><td>SZ002027           </td><td>  7.10             </td><td>11.00              </td><td>14.12              </td></tr>\n",
       "\t<tr><td>SP1000088          </td><td>2018-10-18 23:15:37</td><td>SZ002027           </td><td>  7.10             </td><td>14.12              </td><td>14.61              </td></tr>\n",
       "\t<tr><td>SP1000088          </td><td>2018-10-18 23:15:38</td><td>SZ002027           </td><td>  7.10             </td><td>14.61              </td><td>15.10              </td></tr>\n",
       "\t<tr><td>SP1000088          </td><td>2018-10-18 23:15:40</td><td>SZ002027           </td><td>  7.10             </td><td>15.10              </td><td>17.37              </td></tr>\n",
       "\t<tr><td>SP1000088          </td><td>2018-10-18 23:08:51</td><td>SZ002043           </td><td>  5.26             </td><td> 3.13              </td><td> 1.33              </td></tr>\n",
       "\t<tr><td>SP1000088          </td><td>2018-10-18 23:08:53</td><td>SZ002043           </td><td>  5.26             </td><td> 1.33              </td><td> 0.00              </td></tr>\n",
       "\t<tr><td>SP1000088          </td><td>2018-10-18 23:05:08</td><td>SZ002400           </td><td>  2.45             </td><td> 3.13              </td><td> 0.00              </td></tr>\n",
       "\t<tr><td>SP1000088          </td><td>2018-10-18 23:10:03</td><td>SZ002508           </td><td> 19.36             </td><td> 5.07              </td><td> 2.25              </td></tr>\n",
       "\t<tr><td>SP1000088          </td><td>2018-10-18 23:10:07</td><td>SZ002508           </td><td> 19.36             </td><td> 2.25              </td><td> 1.79              </td></tr>\n",
       "\t<tr><td>SP1000088          </td><td>2018-10-18 23:10:10</td><td>SZ002508           </td><td> 19.36             </td><td> 1.09              </td><td> 0.00              </td></tr>\n",
       "\t<tr><td>SP1000088          </td><td>2018-10-18 23:10:10</td><td>SZ002508           </td><td> 19.36             </td><td> 1.79              </td><td> 1.09              </td></tr>\n",
       "\t<tr><td>SP1000090          </td><td>2017-09-11 23:44:23</td><td>SH600900           </td><td> 15.15             </td><td>11.95              </td><td>13.78              </td></tr>\n",
       "\t<tr><td>SP1000090          </td><td>2018-10-19 00:53:00</td><td>SH600900           </td><td> 15.88             </td><td>25.22              </td><td>21.93              </td></tr>\n",
       "\t<tr><td>SP1000090          </td><td>2017-03-19 23:59:29</td><td>SZ000001           </td><td>  9.22             </td><td> 1.90              </td><td> 2.49              </td></tr>\n",
       "\t<tr><td>SP1000090          </td><td>2017-03-19 23:59:31</td><td>SZ000001           </td><td>  9.22             </td><td> 2.49              </td><td> 2.99              </td></tr>\n",
       "\t<tr><td>SP1000090          </td><td>2017-03-19 23:59:34</td><td>SZ000001           </td><td>  9.22             </td><td> 2.99              </td><td> 3.50              </td></tr>\n",
       "\t<tr><td>SP1000090          </td><td>2017-03-19 23:59:35</td><td>SZ000001           </td><td>  9.22             </td><td> 3.50              </td><td> 3.81              </td></tr>\n",
       "</tbody>\n",
       "</table>\n"
      ],
      "text/latex": [
       "\\begin{tabular}{r|llllll}\n",
       " cube.symbol & created.at & stock.symbol & price & prev.weight.adjusted & target.weight\\\\\n",
       "\\hline\n",
       "\t SP1000047           & 2017-03-19 19:25:00 & SH600886            &  7.49               &  0.90               &  0.70              \\\\\n",
       "\t SP1000064           & 2017-03-19 23:00:03 & SH600315            & 29.43               &  7.57               &  3.78              \\\\\n",
       "\t SP1000064           & 2017-03-19 23:00:03 & SH600315            & 29.44               &  3.78               &  0.00              \\\\\n",
       "\t SP1000064           & 2017-09-11 20:06:10 & SH600479            & 13.57               &  9.56               & 11.81              \\\\\n",
       "\t SP1000064           & 2017-09-11 20:06:13 & SH600479            & 13.57               & 11.81               & 12.37              \\\\\n",
       "\t SP1000064           & 2017-03-19 19:46:48 & SH600664            &  8.30               &  0.00               &  0.43              \\\\\n",
       "\t SP1000064           & 2017-03-19 20:25:24 & SH600664            &  8.30               &  0.85               &  1.07              \\\\\n",
       "\t SP1000064           & 2017-03-19 20:15:33 & SH600664            &  8.31               &  0.43               &  0.64              \\\\\n",
       "\t SP1000064           & 2017-03-19 20:25:12 & SH600664            &  8.31               &  0.64               &  0.85              \\\\\n",
       "\t SP1000070           & 2019-01-06 19:54:34 & SH600797            &  7.71               & 14.42               &  0.00              \\\\\n",
       "\t SP1000070           & 2019-01-06 19:58:42 & SZ002413            &  5.95               & 87.99               & 85.44              \\\\\n",
       "\t SP1000070           & 2019-01-06 19:59:15 & SZ002413            &  5.95               & 84.96               & 69.74              \\\\\n",
       "\t SP1000070           & 2019-01-06 19:59:26 & SZ002413            &  5.95               & 67.99               &  0.00              \\\\\n",
       "\t SP1000070           & 2019-01-06 23:02:46 & SZ002933            & 43.42               &  0.00               & 75.21              \\\\\n",
       "\t SP1000070           & 2019-01-06 23:02:52 & SZ002933            & 43.42               & 75.27               & 93.38              \\\\\n",
       "\t SP1000070           & 2019-01-06 23:02:53 & SZ002933            & 43.42               & 93.41               & 99.66              \\\\\n",
       "\t SP1000071           & 2017-03-19 23:20:17 & SZ000670            &  8.20               &  5.71               &  0.00              \\\\\n",
       "\t SP1000071           & 2017-03-19 23:23:02 & SZ300360            & 18.82               &  9.83               &  6.55              \\\\\n",
       "\t SP1000071           & 2017-03-19 23:23:02 & SZ300360            & 18.82               & 13.11               &  9.83              \\\\\n",
       "\t SP1000071           & 2017-03-19 23:23:02 & SZ300360            & 18.82               & 16.39               & 13.11              \\\\\n",
       "\t SP1000071           & 2017-03-19 19:55:54 & SZ300360            & 18.83               &  9.84               & 16.40              \\\\\n",
       "\t SP1000071           & 2017-03-19 23:34:19 & SZ300427            & 26.89               & 32.97               & 42.39              \\\\\n",
       "\t SP1000071           & 2017-03-19 23:22:41 & SZ300427            & 26.91               & 28.23               & 32.94              \\\\\n",
       "\t SP1000071           & 2017-03-19 19:25:00 & SZ300427            & 26.95               & 28.26               & 32.97              \\\\\n",
       "\t SP1000071           & 2017-03-19 19:40:52 & SZ300427            & 27.95               & 33.82               & 28.99              \\\\\n",
       "\t SP1000072           & 2017-03-19 19:53:01 & SH601611            & 18.12               & 13.77               &  8.26              \\\\\n",
       "\t SP1000074           & 2019-01-06 19:17:20 & SH603220            & 21.33               &  0.00               & 29.59              \\\\\n",
       "\t SP1000074           & 2019-01-06 19:17:25 & SH603220            & 21.33               & 29.58               & 33.27              \\\\\n",
       "\t SP1000075           & 2017-03-19 20:27:21 & SH600577            &  7.44               &  0.00               & 11.34              \\\\\n",
       "\t SP1000075           & 2019-01-06 22:50:46 & SH600621            &  9.72               & 47.32               & 40.84              \\\\\n",
       "\t ... & ... & ... & ... & ... & ...\\\\\n",
       "\t SP1000088           & 2018-10-18 23:05:44 & SH600079            &  10.61              &  0.06               &  0.00              \\\\\n",
       "\t SP1000088           & 2018-10-18 23:05:44 & SH600079            &  10.62              &  1.36               &  0.06              \\\\\n",
       "\t SP1000088           & 2018-10-18 23:04:58 & SH600276            &  55.83              &  2.16               &  0.00              \\\\\n",
       "\t SP1000088           & 2018-10-18 23:10:46 & SH600519            & 650.00              &  0.00               &  3.87              \\\\\n",
       "\t SP1000088           & 2018-10-18 23:12:04 & SH603605            &  34.27              &  3.16               &  5.10              \\\\\n",
       "\t SP1000088           & 2018-10-18 23:12:51 & SZ000402            &   5.92              &  0.88               &  0.86              \\\\\n",
       "\t SP1000088           & 2018-10-18 23:13:09 & SZ000402            &   5.92              &  0.86               &  0.74              \\\\\n",
       "\t SP1000088           & 2018-10-18 23:13:16 & SZ000402            &   5.92              &  0.74               &  0.69              \\\\\n",
       "\t SP1000088           & 2018-10-18 23:13:19 & SZ000402            &   5.92              &  0.69               &  0.67              \\\\\n",
       "\t SP1000088           & 2018-10-18 23:16:12 & SZ000402            &   5.92              &  0.67               &  0.00              \\\\\n",
       "\t SP1000088           & 2018-10-18 23:01:56 & SZ000423            &  38.86              &  2.89               &  2.20              \\\\\n",
       "\t SP1000088           & 2018-10-18 23:08:30 & SZ000423            &  38.88              &  2.20               &  0.00              \\\\\n",
       "\t SP1000088           & 2018-10-18 23:12:43 & SZ000488            &   5.44              &  1.29               &  0.00              \\\\\n",
       "\t SP1000088           & 2018-10-18 23:15:35 & SZ002027            &   7.10              & 11.00               & 14.12              \\\\\n",
       "\t SP1000088           & 2018-10-18 23:15:37 & SZ002027            &   7.10              & 14.12               & 14.61              \\\\\n",
       "\t SP1000088           & 2018-10-18 23:15:38 & SZ002027            &   7.10              & 14.61               & 15.10              \\\\\n",
       "\t SP1000088           & 2018-10-18 23:15:40 & SZ002027            &   7.10              & 15.10               & 17.37              \\\\\n",
       "\t SP1000088           & 2018-10-18 23:08:51 & SZ002043            &   5.26              &  3.13               &  1.33              \\\\\n",
       "\t SP1000088           & 2018-10-18 23:08:53 & SZ002043            &   5.26              &  1.33               &  0.00              \\\\\n",
       "\t SP1000088           & 2018-10-18 23:05:08 & SZ002400            &   2.45              &  3.13               &  0.00              \\\\\n",
       "\t SP1000088           & 2018-10-18 23:10:03 & SZ002508            &  19.36              &  5.07               &  2.25              \\\\\n",
       "\t SP1000088           & 2018-10-18 23:10:07 & SZ002508            &  19.36              &  2.25               &  1.79              \\\\\n",
       "\t SP1000088           & 2018-10-18 23:10:10 & SZ002508            &  19.36              &  1.09               &  0.00              \\\\\n",
       "\t SP1000088           & 2018-10-18 23:10:10 & SZ002508            &  19.36              &  1.79               &  1.09              \\\\\n",
       "\t SP1000090           & 2017-09-11 23:44:23 & SH600900            &  15.15              & 11.95               & 13.78              \\\\\n",
       "\t SP1000090           & 2018-10-19 00:53:00 & SH600900            &  15.88              & 25.22               & 21.93              \\\\\n",
       "\t SP1000090           & 2017-03-19 23:59:29 & SZ000001            &   9.22              &  1.90               &  2.49              \\\\\n",
       "\t SP1000090           & 2017-03-19 23:59:31 & SZ000001            &   9.22              &  2.49               &  2.99              \\\\\n",
       "\t SP1000090           & 2017-03-19 23:59:34 & SZ000001            &   9.22              &  2.99               &  3.50              \\\\\n",
       "\t SP1000090           & 2017-03-19 23:59:35 & SZ000001            &   9.22              &  3.50               &  3.81              \\\\\n",
       "\\end{tabular}\n"
      ],
      "text/markdown": [
       "\n",
       "cube.symbol | created.at | stock.symbol | price | prev.weight.adjusted | target.weight | \n",
       "|---|---|---|---|---|---|---|---|---|---|---|---|---|---|---|---|---|---|---|---|---|---|---|---|---|---|---|---|---|---|---|---|---|---|---|---|---|---|---|---|---|---|---|---|---|---|---|---|---|---|---|---|---|---|---|---|---|---|---|---|---|\n",
       "| SP1000047           | 2017-03-19 19:25:00 | SH600886            |  7.49               |  0.90               |  0.70               | \n",
       "| SP1000064           | 2017-03-19 23:00:03 | SH600315            | 29.43               |  7.57               |  3.78               | \n",
       "| SP1000064           | 2017-03-19 23:00:03 | SH600315            | 29.44               |  3.78               |  0.00               | \n",
       "| SP1000064           | 2017-09-11 20:06:10 | SH600479            | 13.57               |  9.56               | 11.81               | \n",
       "| SP1000064           | 2017-09-11 20:06:13 | SH600479            | 13.57               | 11.81               | 12.37               | \n",
       "| SP1000064           | 2017-03-19 19:46:48 | SH600664            |  8.30               |  0.00               |  0.43               | \n",
       "| SP1000064           | 2017-03-19 20:25:24 | SH600664            |  8.30               |  0.85               |  1.07               | \n",
       "| SP1000064           | 2017-03-19 20:15:33 | SH600664            |  8.31               |  0.43               |  0.64               | \n",
       "| SP1000064           | 2017-03-19 20:25:12 | SH600664            |  8.31               |  0.64               |  0.85               | \n",
       "| SP1000070           | 2019-01-06 19:54:34 | SH600797            |  7.71               | 14.42               |  0.00               | \n",
       "| SP1000070           | 2019-01-06 19:58:42 | SZ002413            |  5.95               | 87.99               | 85.44               | \n",
       "| SP1000070           | 2019-01-06 19:59:15 | SZ002413            |  5.95               | 84.96               | 69.74               | \n",
       "| SP1000070           | 2019-01-06 19:59:26 | SZ002413            |  5.95               | 67.99               |  0.00               | \n",
       "| SP1000070           | 2019-01-06 23:02:46 | SZ002933            | 43.42               |  0.00               | 75.21               | \n",
       "| SP1000070           | 2019-01-06 23:02:52 | SZ002933            | 43.42               | 75.27               | 93.38               | \n",
       "| SP1000070           | 2019-01-06 23:02:53 | SZ002933            | 43.42               | 93.41               | 99.66               | \n",
       "| SP1000071           | 2017-03-19 23:20:17 | SZ000670            |  8.20               |  5.71               |  0.00               | \n",
       "| SP1000071           | 2017-03-19 23:23:02 | SZ300360            | 18.82               |  9.83               |  6.55               | \n",
       "| SP1000071           | 2017-03-19 23:23:02 | SZ300360            | 18.82               | 13.11               |  9.83               | \n",
       "| SP1000071           | 2017-03-19 23:23:02 | SZ300360            | 18.82               | 16.39               | 13.11               | \n",
       "| SP1000071           | 2017-03-19 19:55:54 | SZ300360            | 18.83               |  9.84               | 16.40               | \n",
       "| SP1000071           | 2017-03-19 23:34:19 | SZ300427            | 26.89               | 32.97               | 42.39               | \n",
       "| SP1000071           | 2017-03-19 23:22:41 | SZ300427            | 26.91               | 28.23               | 32.94               | \n",
       "| SP1000071           | 2017-03-19 19:25:00 | SZ300427            | 26.95               | 28.26               | 32.97               | \n",
       "| SP1000071           | 2017-03-19 19:40:52 | SZ300427            | 27.95               | 33.82               | 28.99               | \n",
       "| SP1000072           | 2017-03-19 19:53:01 | SH601611            | 18.12               | 13.77               |  8.26               | \n",
       "| SP1000074           | 2019-01-06 19:17:20 | SH603220            | 21.33               |  0.00               | 29.59               | \n",
       "| SP1000074           | 2019-01-06 19:17:25 | SH603220            | 21.33               | 29.58               | 33.27               | \n",
       "| SP1000075           | 2017-03-19 20:27:21 | SH600577            |  7.44               |  0.00               | 11.34               | \n",
       "| SP1000075           | 2019-01-06 22:50:46 | SH600621            |  9.72               | 47.32               | 40.84               | \n",
       "| ... | ... | ... | ... | ... | ... | \n",
       "| SP1000088           | 2018-10-18 23:05:44 | SH600079            |  10.61              |  0.06               |  0.00               | \n",
       "| SP1000088           | 2018-10-18 23:05:44 | SH600079            |  10.62              |  1.36               |  0.06               | \n",
       "| SP1000088           | 2018-10-18 23:04:58 | SH600276            |  55.83              |  2.16               |  0.00               | \n",
       "| SP1000088           | 2018-10-18 23:10:46 | SH600519            | 650.00              |  0.00               |  3.87               | \n",
       "| SP1000088           | 2018-10-18 23:12:04 | SH603605            |  34.27              |  3.16               |  5.10               | \n",
       "| SP1000088           | 2018-10-18 23:12:51 | SZ000402            |   5.92              |  0.88               |  0.86               | \n",
       "| SP1000088           | 2018-10-18 23:13:09 | SZ000402            |   5.92              |  0.86               |  0.74               | \n",
       "| SP1000088           | 2018-10-18 23:13:16 | SZ000402            |   5.92              |  0.74               |  0.69               | \n",
       "| SP1000088           | 2018-10-18 23:13:19 | SZ000402            |   5.92              |  0.69               |  0.67               | \n",
       "| SP1000088           | 2018-10-18 23:16:12 | SZ000402            |   5.92              |  0.67               |  0.00               | \n",
       "| SP1000088           | 2018-10-18 23:01:56 | SZ000423            |  38.86              |  2.89               |  2.20               | \n",
       "| SP1000088           | 2018-10-18 23:08:30 | SZ000423            |  38.88              |  2.20               |  0.00               | \n",
       "| SP1000088           | 2018-10-18 23:12:43 | SZ000488            |   5.44              |  1.29               |  0.00               | \n",
       "| SP1000088           | 2018-10-18 23:15:35 | SZ002027            |   7.10              | 11.00               | 14.12               | \n",
       "| SP1000088           | 2018-10-18 23:15:37 | SZ002027            |   7.10              | 14.12               | 14.61               | \n",
       "| SP1000088           | 2018-10-18 23:15:38 | SZ002027            |   7.10              | 14.61               | 15.10               | \n",
       "| SP1000088           | 2018-10-18 23:15:40 | SZ002027            |   7.10              | 15.10               | 17.37               | \n",
       "| SP1000088           | 2018-10-18 23:08:51 | SZ002043            |   5.26              |  3.13               |  1.33               | \n",
       "| SP1000088           | 2018-10-18 23:08:53 | SZ002043            |   5.26              |  1.33               |  0.00               | \n",
       "| SP1000088           | 2018-10-18 23:05:08 | SZ002400            |   2.45              |  3.13               |  0.00               | \n",
       "| SP1000088           | 2018-10-18 23:10:03 | SZ002508            |  19.36              |  5.07               |  2.25               | \n",
       "| SP1000088           | 2018-10-18 23:10:07 | SZ002508            |  19.36              |  2.25               |  1.79               | \n",
       "| SP1000088           | 2018-10-18 23:10:10 | SZ002508            |  19.36              |  1.09               |  0.00               | \n",
       "| SP1000088           | 2018-10-18 23:10:10 | SZ002508            |  19.36              |  1.79               |  1.09               | \n",
       "| SP1000090           | 2017-09-11 23:44:23 | SH600900            |  15.15              | 11.95               | 13.78               | \n",
       "| SP1000090           | 2018-10-19 00:53:00 | SH600900            |  15.88              | 25.22               | 21.93               | \n",
       "| SP1000090           | 2017-03-19 23:59:29 | SZ000001            |   9.22              |  1.90               |  2.49               | \n",
       "| SP1000090           | 2017-03-19 23:59:31 | SZ000001            |   9.22              |  2.49               |  2.99               | \n",
       "| SP1000090           | 2017-03-19 23:59:34 | SZ000001            |   9.22              |  2.99               |  3.50               | \n",
       "| SP1000090           | 2017-03-19 23:59:35 | SZ000001            |   9.22              |  3.50               |  3.81               | \n",
       "\n",
       "\n"
      ],
      "text/plain": [
       "    cube.symbol created.at          stock.symbol price  prev.weight.adjusted\n",
       "1   SP1000047   2017-03-19 19:25:00 SH600886      7.49   0.90               \n",
       "2   SP1000064   2017-03-19 23:00:03 SH600315     29.43   7.57               \n",
       "3   SP1000064   2017-03-19 23:00:03 SH600315     29.44   3.78               \n",
       "4   SP1000064   2017-09-11 20:06:10 SH600479     13.57   9.56               \n",
       "5   SP1000064   2017-09-11 20:06:13 SH600479     13.57  11.81               \n",
       "6   SP1000064   2017-03-19 19:46:48 SH600664      8.30   0.00               \n",
       "7   SP1000064   2017-03-19 20:25:24 SH600664      8.30   0.85               \n",
       "8   SP1000064   2017-03-19 20:15:33 SH600664      8.31   0.43               \n",
       "9   SP1000064   2017-03-19 20:25:12 SH600664      8.31   0.64               \n",
       "10  SP1000070   2019-01-06 19:54:34 SH600797      7.71  14.42               \n",
       "11  SP1000070   2019-01-06 19:58:42 SZ002413      5.95  87.99               \n",
       "12  SP1000070   2019-01-06 19:59:15 SZ002413      5.95  84.96               \n",
       "13  SP1000070   2019-01-06 19:59:26 SZ002413      5.95  67.99               \n",
       "14  SP1000070   2019-01-06 23:02:46 SZ002933     43.42   0.00               \n",
       "15  SP1000070   2019-01-06 23:02:52 SZ002933     43.42  75.27               \n",
       "16  SP1000070   2019-01-06 23:02:53 SZ002933     43.42  93.41               \n",
       "17  SP1000071   2017-03-19 23:20:17 SZ000670      8.20   5.71               \n",
       "18  SP1000071   2017-03-19 23:23:02 SZ300360     18.82   9.83               \n",
       "19  SP1000071   2017-03-19 23:23:02 SZ300360     18.82  13.11               \n",
       "20  SP1000071   2017-03-19 23:23:02 SZ300360     18.82  16.39               \n",
       "21  SP1000071   2017-03-19 19:55:54 SZ300360     18.83   9.84               \n",
       "22  SP1000071   2017-03-19 23:34:19 SZ300427     26.89  32.97               \n",
       "23  SP1000071   2017-03-19 23:22:41 SZ300427     26.91  28.23               \n",
       "24  SP1000071   2017-03-19 19:25:00 SZ300427     26.95  28.26               \n",
       "25  SP1000071   2017-03-19 19:40:52 SZ300427     27.95  33.82               \n",
       "26  SP1000072   2017-03-19 19:53:01 SH601611     18.12  13.77               \n",
       "27  SP1000074   2019-01-06 19:17:20 SH603220     21.33   0.00               \n",
       "28  SP1000074   2019-01-06 19:17:25 SH603220     21.33  29.58               \n",
       "29  SP1000075   2017-03-19 20:27:21 SH600577      7.44   0.00               \n",
       "30  SP1000075   2019-01-06 22:50:46 SH600621      9.72  47.32               \n",
       "... ...         ...                 ...          ...    ...                 \n",
       "71  SP1000088   2018-10-18 23:05:44 SH600079      10.61  0.06               \n",
       "72  SP1000088   2018-10-18 23:05:44 SH600079      10.62  1.36               \n",
       "73  SP1000088   2018-10-18 23:04:58 SH600276      55.83  2.16               \n",
       "74  SP1000088   2018-10-18 23:10:46 SH600519     650.00  0.00               \n",
       "75  SP1000088   2018-10-18 23:12:04 SH603605      34.27  3.16               \n",
       "76  SP1000088   2018-10-18 23:12:51 SZ000402       5.92  0.88               \n",
       "77  SP1000088   2018-10-18 23:13:09 SZ000402       5.92  0.86               \n",
       "78  SP1000088   2018-10-18 23:13:16 SZ000402       5.92  0.74               \n",
       "79  SP1000088   2018-10-18 23:13:19 SZ000402       5.92  0.69               \n",
       "80  SP1000088   2018-10-18 23:16:12 SZ000402       5.92  0.67               \n",
       "81  SP1000088   2018-10-18 23:01:56 SZ000423      38.86  2.89               \n",
       "82  SP1000088   2018-10-18 23:08:30 SZ000423      38.88  2.20               \n",
       "83  SP1000088   2018-10-18 23:12:43 SZ000488       5.44  1.29               \n",
       "84  SP1000088   2018-10-18 23:15:35 SZ002027       7.10 11.00               \n",
       "85  SP1000088   2018-10-18 23:15:37 SZ002027       7.10 14.12               \n",
       "86  SP1000088   2018-10-18 23:15:38 SZ002027       7.10 14.61               \n",
       "87  SP1000088   2018-10-18 23:15:40 SZ002027       7.10 15.10               \n",
       "88  SP1000088   2018-10-18 23:08:51 SZ002043       5.26  3.13               \n",
       "89  SP1000088   2018-10-18 23:08:53 SZ002043       5.26  1.33               \n",
       "90  SP1000088   2018-10-18 23:05:08 SZ002400       2.45  3.13               \n",
       "91  SP1000088   2018-10-18 23:10:03 SZ002508      19.36  5.07               \n",
       "92  SP1000088   2018-10-18 23:10:07 SZ002508      19.36  2.25               \n",
       "93  SP1000088   2018-10-18 23:10:10 SZ002508      19.36  1.09               \n",
       "94  SP1000088   2018-10-18 23:10:10 SZ002508      19.36  1.79               \n",
       "95  SP1000090   2017-09-11 23:44:23 SH600900      15.15 11.95               \n",
       "96  SP1000090   2018-10-19 00:53:00 SH600900      15.88 25.22               \n",
       "97  SP1000090   2017-03-19 23:59:29 SZ000001       9.22  1.90               \n",
       "98  SP1000090   2017-03-19 23:59:31 SZ000001       9.22  2.49               \n",
       "99  SP1000090   2017-03-19 23:59:34 SZ000001       9.22  2.99               \n",
       "100 SP1000090   2017-03-19 23:59:35 SZ000001       9.22  3.50               \n",
       "    target.weight\n",
       "1    0.70        \n",
       "2    3.78        \n",
       "3    0.00        \n",
       "4   11.81        \n",
       "5   12.37        \n",
       "6    0.43        \n",
       "7    1.07        \n",
       "8    0.64        \n",
       "9    0.85        \n",
       "10   0.00        \n",
       "11  85.44        \n",
       "12  69.74        \n",
       "13   0.00        \n",
       "14  75.21        \n",
       "15  93.38        \n",
       "16  99.66        \n",
       "17   0.00        \n",
       "18   6.55        \n",
       "19   9.83        \n",
       "20  13.11        \n",
       "21  16.40        \n",
       "22  42.39        \n",
       "23  32.94        \n",
       "24  32.97        \n",
       "25  28.99        \n",
       "26   8.26        \n",
       "27  29.59        \n",
       "28  33.27        \n",
       "29  11.34        \n",
       "30  40.84        \n",
       "... ...          \n",
       "71   0.00        \n",
       "72   0.06        \n",
       "73   0.00        \n",
       "74   3.87        \n",
       "75   5.10        \n",
       "76   0.86        \n",
       "77   0.74        \n",
       "78   0.69        \n",
       "79   0.67        \n",
       "80   0.00        \n",
       "81   2.20        \n",
       "82   0.00        \n",
       "83   0.00        \n",
       "84  14.12        \n",
       "85  14.61        \n",
       "86  15.10        \n",
       "87  17.37        \n",
       "88   1.33        \n",
       "89   0.00        \n",
       "90   0.00        \n",
       "91   2.25        \n",
       "92   1.79        \n",
       "93   0.00        \n",
       "94   1.09        \n",
       "95  13.78        \n",
       "96  21.93        \n",
       "97   2.49        \n",
       "98   2.99        \n",
       "99   3.50        \n",
       "100  3.81        "
      ]
     },
     "metadata": {},
     "output_type": "display_data"
    }
   ],
   "source": [
    "cube.rb[1:100]"
   ]
  },
  {
   "cell_type": "code",
   "execution_count": 8,
   "metadata": {},
   "outputs": [
    {
     "name": "stdout",
     "output_type": "stream",
     "text": [
      "'cube.rb' successfully saved\n",
      "Use 1.5 mins \n",
      "\n"
     ]
    }
   ],
   "source": [
    "sv(cube.rb)"
   ]
  },
  {
   "cell_type": "markdown",
   "metadata": {},
   "source": [
    "### `r.cube.ret.mst.1901`"
   ]
  },
  {
   "cell_type": "code",
   "execution_count": 9,
   "metadata": {},
   "outputs": [],
   "source": [
    "rm(list = ls()) # this line didn't IMMEDIATELY empty the memory, only after running the next line the memory is cleaned."
   ]
  },
  {
   "cell_type": "code",
   "execution_count": 1,
   "metadata": {},
   "outputs": [
    {
     "name": "stdout",
     "output_type": "stream",
     "text": [
      "' r.cube.ret.mst.1901 ' successfully loaded \n",
      "Use 5.6 mins \n",
      "\n"
     ]
    }
   ],
   "source": [
    "ld(r.cube.ret.mst.1901)"
   ]
  },
  {
   "cell_type": "code",
   "execution_count": 2,
   "metadata": {},
   "outputs": [
    {
     "data": {
      "text/html": [
       "<table>\n",
       "<thead><tr><th scope=col>cube.symbol</th><th scope=col>date</th><th scope=col>value</th><th scope=col>label</th><th scope=col>lastcrawl</th><th scope=col>cube.type</th></tr></thead>\n",
       "<tbody>\n",
       "\t<tr><td>SP1000000 </td><td>2016-07-27</td><td>1         </td><td>          </td><td>1803      </td><td>SP        </td></tr>\n",
       "\t<tr><td>SP1000000 </td><td>2016-07-28</td><td>1         </td><td>          </td><td>1803      </td><td>SP        </td></tr>\n",
       "\t<tr><td>SP1000000 </td><td>2016-07-29</td><td>1         </td><td>          </td><td>1803      </td><td>SP        </td></tr>\n",
       "\t<tr><td>SP1000000 </td><td>2016-08-01</td><td>1         </td><td>          </td><td>1803      </td><td>SP        </td></tr>\n",
       "\t<tr><td>SP1000000 </td><td>2016-08-02</td><td>1         </td><td>          </td><td>1803      </td><td>SP        </td></tr>\n",
       "</tbody>\n",
       "</table>\n"
      ],
      "text/latex": [
       "\\begin{tabular}{r|llllll}\n",
       " cube.symbol & date & value & label & lastcrawl & cube.type\\\\\n",
       "\\hline\n",
       "\t SP1000000  & 2016-07-27 & 1          &            & 1803       & SP        \\\\\n",
       "\t SP1000000  & 2016-07-28 & 1          &            & 1803       & SP        \\\\\n",
       "\t SP1000000  & 2016-07-29 & 1          &            & 1803       & SP        \\\\\n",
       "\t SP1000000  & 2016-08-01 & 1          &            & 1803       & SP        \\\\\n",
       "\t SP1000000  & 2016-08-02 & 1          &            & 1803       & SP        \\\\\n",
       "\\end{tabular}\n"
      ],
      "text/markdown": [
       "\n",
       "cube.symbol | date | value | label | lastcrawl | cube.type | \n",
       "|---|---|---|---|---|\n",
       "| SP1000000  | 2016-07-27 | 1          |            | 1803       | SP         | \n",
       "| SP1000000  | 2016-07-28 | 1          |            | 1803       | SP         | \n",
       "| SP1000000  | 2016-07-29 | 1          |            | 1803       | SP         | \n",
       "| SP1000000  | 2016-08-01 | 1          |            | 1803       | SP         | \n",
       "| SP1000000  | 2016-08-02 | 1          |            | 1803       | SP         | \n",
       "\n",
       "\n"
      ],
      "text/plain": [
       "  cube.symbol date       value label lastcrawl cube.type\n",
       "1 SP1000000   2016-07-27 1           1803      SP       \n",
       "2 SP1000000   2016-07-28 1           1803      SP       \n",
       "3 SP1000000   2016-07-29 1           1803      SP       \n",
       "4 SP1000000   2016-08-01 1           1803      SP       \n",
       "5 SP1000000   2016-08-02 1           1803      SP       "
      ]
     },
     "metadata": {},
     "output_type": "display_data"
    }
   ],
   "source": [
    "r.cube.ret.mst.1901[1:5]"
   ]
  },
  {
   "cell_type": "code",
   "execution_count": 6,
   "metadata": {},
   "outputs": [
    {
     "data": {
      "text/html": [
       "<table>\n",
       "<thead><tr><th scope=col>cube.symbol</th><th scope=col>date</th><th scope=col>value</th></tr></thead>\n",
       "<tbody>\n",
       "\t<tr><td>SP1000000 </td><td>2017-01-03</td><td>16.2671   </td></tr>\n",
       "\t<tr><td>SP1000000 </td><td>2017-01-04</td><td>16.2671   </td></tr>\n",
       "\t<tr><td>SP1000000 </td><td>2017-01-05</td><td>16.2671   </td></tr>\n",
       "\t<tr><td>SP1000000 </td><td>2017-01-06</td><td>16.2671   </td></tr>\n",
       "\t<tr><td>SP1000000 </td><td>2017-01-09</td><td>16.2671   </td></tr>\n",
       "</tbody>\n",
       "</table>\n"
      ],
      "text/latex": [
       "\\begin{tabular}{r|lll}\n",
       " cube.symbol & date & value\\\\\n",
       "\\hline\n",
       "\t SP1000000  & 2017-01-03 & 16.2671   \\\\\n",
       "\t SP1000000  & 2017-01-04 & 16.2671   \\\\\n",
       "\t SP1000000  & 2017-01-05 & 16.2671   \\\\\n",
       "\t SP1000000  & 2017-01-06 & 16.2671   \\\\\n",
       "\t SP1000000  & 2017-01-09 & 16.2671   \\\\\n",
       "\\end{tabular}\n"
      ],
      "text/markdown": [
       "\n",
       "cube.symbol | date | value | \n",
       "|---|---|---|---|---|\n",
       "| SP1000000  | 2017-01-03 | 16.2671    | \n",
       "| SP1000000  | 2017-01-04 | 16.2671    | \n",
       "| SP1000000  | 2017-01-05 | 16.2671    | \n",
       "| SP1000000  | 2017-01-06 | 16.2671    | \n",
       "| SP1000000  | 2017-01-09 | 16.2671    | \n",
       "\n",
       "\n"
      ],
      "text/plain": [
       "  cube.symbol date       value  \n",
       "1 SP1000000   2017-01-03 16.2671\n",
       "2 SP1000000   2017-01-04 16.2671\n",
       "3 SP1000000   2017-01-05 16.2671\n",
       "4 SP1000000   2017-01-06 16.2671\n",
       "5 SP1000000   2017-01-09 16.2671"
      ]
     },
     "metadata": {},
     "output_type": "display_data"
    }
   ],
   "source": [
    "cube.ret <- r.cube.ret.mst.1901[date >= as.Date('2017-01-01'), .(cube.symbol, date, value)]\n",
    "cube.ret[1:5]"
   ]
  },
  {
   "cell_type": "code",
   "execution_count": 7,
   "metadata": {},
   "outputs": [
    {
     "data": {
      "text/plain": [
       "11.6 GB"
      ]
     },
     "metadata": {},
     "output_type": "display_data"
    }
   ],
   "source": [
    "# object_size(cube.ret) "
   ]
  },
  {
   "cell_type": "code",
   "execution_count": 8,
   "metadata": {},
   "outputs": [
    {
     "name": "stderr",
     "output_type": "stream",
     "text": [
      "'cube.ret' will be OVERWRITTEN!\n"
     ]
    },
    {
     "name": "stdout",
     "output_type": "stream",
     "text": [
      "'cube.ret' successfully saved\n",
      "Use 2.28 mins \n",
      "\n"
     ]
    }
   ],
   "source": [
    "sv(cube.ret)"
   ]
  },
  {
   "cell_type": "markdown",
   "metadata": {},
   "source": [
    "### `user.info`"
   ]
  },
  {
   "cell_type": "code",
   "execution_count": 9,
   "metadata": {},
   "outputs": [
    {
     "name": "stdout",
     "output_type": "stream",
     "text": [
      "' r.cube.info.mst.1901 ' successfully loaded \n",
      "Use 12.53 secs \n",
      "\n"
     ]
    }
   ],
   "source": [
    "ld(r.cube.info.mst.1901)"
   ]
  },
  {
   "cell_type": "code",
   "execution_count": 10,
   "metadata": {},
   "outputs": [
    {
     "data": {
      "text/html": [
       "<table>\n",
       "<thead><tr><th scope=col>cube.symbol</th><th scope=col>lastcrawl</th><th scope=col>cube.type</th><th scope=col>cube.name</th><th scope=col>owner.id</th><th scope=col>market</th><th scope=col>create.date</th><th scope=col>close.date</th><th scope=col>fans.count</th><th scope=col>net.value</th><th scope=col>...</th><th scope=col>daily.ret</th><th scope=col>bb.rate</th><th scope=col>listed.flag</th><th scope=col>update.date</th><th scope=col>style.name</th><th scope=col>style.degree</th><th scope=col>tag</th><th scope=col>tid</th><th scope=col>aid</th><th scope=col>description</th></tr></thead>\n",
       "<tbody>\n",
       "\t<tr><td>SP1000000                                                                                                                                                                                                                                                    </td><td>1703                                                                                                                                                                                                                                                         </td><td>SP                                                                                                                                                                                                                                                           </td><td>gkzhong&lt;U+7684&gt;&lt;U+5B9E&gt;&lt;U+76D8&gt;                                                                                                                                                                                                            </td><td>3340940262                                                                                                                                                                                                                                                   </td><td>cn                                                                                                                                                                                                                                                           </td><td>2016-07-28                                                                                                                                                                                                                                                   </td><td>NA                                                                                                                                                                                                                                                           </td><td>18                                                                                                                                                                                                                                                           </td><td>16.2671                                                                                                                                                                                                                                                      </td><td>...                                                                                                                                                                                                                                                          </td><td>0                                                                                                                                                                                                                                                            </td><td>NA                                                                                                                                                                                                                                                           </td><td>NA                                                                                                                                                                                                                                                           </td><td>1.494831e+12                                                                                                                                                                                                                                                 </td><td><span style=white-space:pre-wrap>NA  </span>                                                                                                                                                                                                                 </td><td>NA                                                                                                                                                                                                                                                           </td><td>NULL                                                                                                                                                                                                                                                         </td><td>PAMID                                                                                                                                                                                                                                                        </td><td>PAMID.24a094515823c87783f382476d42cc73ffe6746d0553ae1514e050516c631786                                                                                                                                                                                       </td><td>&lt;U+5199&gt;&lt;U+70B9&gt;&lt;U+5EFA&gt;&lt;U+8BAE&gt;&lt;U+5427&gt;,&lt;U+4FBF&gt;&lt;U+4E8E&gt;&lt;U+522B&gt;&lt;U+4EBA&gt;&lt;U+4E86&gt;&lt;U+89E3&gt;&lt;U+4F60&gt;&lt;U+7684&gt;&lt;U+5B9E&gt;&lt;U+76D8&gt;&lt;U+7EC4&gt;&lt;U+5408&gt;&lt;U+3002&gt;</td></tr>\n",
       "\t<tr><td>SP1000000                                                                                                                                                                                                                                                    </td><td>1803                                                                                                                                                                                                                                                         </td><td>SP                                                                                                                                                                                                                                                           </td><td>gkzhong&lt;U+7684&gt;&lt;U+5B9E&gt;&lt;U+76D8&gt;                                                                                                                                                                                                            </td><td>3340940262                                                                                                                                                                                                                                                   </td><td>cn                                                                                                                                                                                                                                                           </td><td>2016-08-04                                                                                                                                                                                                                                                   </td><td>2017-11-23                                                                                                                                                                                                                                                   </td><td>15                                                                                                                                                                                                                                                           </td><td> 1.0000                                                                                                                                                                                                                                                      </td><td>...                                                                                                                                                                                                                                                          </td><td>0                                                                                                                                                                                                                                                            </td><td>NA                                                                                                                                                                                                                                                           </td><td>NA                                                                                                                                                                                                                                                           </td><td>1.511407e+12                                                                                                                                                                                                                                                 </td><td>#666                                                                                                                                                                                                                                                         </td><td>NA                                                                                                                                                                                                                                                           </td><td>NULL                                                                                                                                                                                                                                                         </td><td>PAMID                                                                                                                                                                                                                                                        </td><td>PAMID.24a094515823c87783f382476d42cc73ffe6746d0553ae1514e050516c631786                                                                                                                                                                                       </td><td>&lt;U+5199&gt;&lt;U+70B9&gt;&lt;U+5EFA&gt;&lt;U+8BAE&gt;&lt;U+5427&gt;,&lt;U+4FBF&gt;&lt;U+4E8E&gt;&lt;U+522B&gt;&lt;U+4EBA&gt;&lt;U+4E86&gt;&lt;U+89E3&gt;&lt;U+4F60&gt;&lt;U+7684&gt;&lt;U+5B9E&gt;&lt;U+76D8&gt;&lt;U+7EC4&gt;&lt;U+5408&gt;&lt;U+3002&gt;</td></tr>\n",
       "\t<tr><td>SP1000000                                                                                                                                                                                                                                                    </td><td>1806                                                                                                                                                                                                                                                         </td><td>SP                                                                                                                                                                                                                                                           </td><td>gkzhong&lt;U+7684&gt;&lt;U+5B9E&gt;&lt;U+76D8&gt;                                                                                                                                                                                                            </td><td>3340940262                                                                                                                                                                                                                                                   </td><td>cn                                                                                                                                                                                                                                                           </td><td>2016-08-04                                                                                                                                                                                                                                                   </td><td>2017-11-23                                                                                                                                                                                                                                                   </td><td>15                                                                                                                                                                                                                                                           </td><td> 1.0000                                                                                                                                                                                                                                                      </td><td>...                                                                                                                                                                                                                                                          </td><td>0                                                                                                                                                                                                                                                            </td><td>NA                                                                                                                                                                                                                                                           </td><td>NA                                                                                                                                                                                                                                                           </td><td>1.511407e+12                                                                                                                                                                                                                                                 </td><td>#666                                                                                                                                                                                                                                                         </td><td>NA                                                                                                                                                                                                                                                           </td><td>NULL                                                                                                                                                                                                                                                         </td><td>PAMID                                                                                                                                                                                                                                                        </td><td>PAMID.24a094515823c87783f382476d42cc73ffe6746d0553ae1514e050516c631786                                                                                                                                                                                       </td><td>&lt;U+5199&gt;&lt;U+70B9&gt;&lt;U+5EFA&gt;&lt;U+8BAE&gt;&lt;U+5427&gt;,&lt;U+4FBF&gt;&lt;U+4E8E&gt;&lt;U+522B&gt;&lt;U+4EBA&gt;&lt;U+4E86&gt;&lt;U+89E3&gt;&lt;U+4F60&gt;&lt;U+7684&gt;&lt;U+5B9E&gt;&lt;U+76D8&gt;&lt;U+7EC4&gt;&lt;U+5408&gt;&lt;U+3002&gt;</td></tr>\n",
       "\t<tr><td>SP1000000                                                                                                                                                                                                                                                    </td><td>1810                                                                                                                                                                                                                                                         </td><td>SP                                                                                                                                                                                                                                                           </td><td>gkzhong&lt;U+7684&gt;&lt;U+5B9E&gt;&lt;U+76D8&gt;                                                                                                                                                                                                            </td><td>3340940262                                                                                                                                                                                                                                                   </td><td>cn                                                                                                                                                                                                                                                           </td><td>2016-08-04                                                                                                                                                                                                                                                   </td><td>2017-11-23                                                                                                                                                                                                                                                   </td><td>15                                                                                                                                                                                                                                                           </td><td> 1.0000                                                                                                                                                                                                                                                      </td><td>...                                                                                                                                                                                                                                                          </td><td>0                                                                                                                                                                                                                                                            </td><td>NA                                                                                                                                                                                                                                                           </td><td>NA                                                                                                                                                                                                                                                           </td><td>1.511407e+12                                                                                                                                                                                                                                                 </td><td>#666                                                                                                                                                                                                                                                         </td><td>NA                                                                                                                                                                                                                                                           </td><td>NULL                                                                                                                                                                                                                                                         </td><td>PAMID                                                                                                                                                                                                                                                        </td><td>PAMID.24a094515823c87783f382476d42cc73ffe6746d0553ae1514e050516c631786                                                                                                                                                                                       </td><td>&lt;U+5199&gt;&lt;U+70B9&gt;&lt;U+5EFA&gt;&lt;U+8BAE&gt;&lt;U+5427&gt;,&lt;U+4FBF&gt;&lt;U+4E8E&gt;&lt;U+522B&gt;&lt;U+4EBA&gt;&lt;U+4E86&gt;&lt;U+89E3&gt;&lt;U+4F60&gt;&lt;U+7684&gt;&lt;U+5B9E&gt;&lt;U+76D8&gt;&lt;U+7EC4&gt;&lt;U+5408&gt;&lt;U+3002&gt;</td></tr>\n",
       "\t<tr><td>SP1000000                                                                                                                                                                                                                                                    </td><td>1901                                                                                                                                                                                                                                                         </td><td>SP                                                                                                                                                                                                                                                           </td><td>gkzhong&lt;U+7684&gt;&lt;U+5B9E&gt;&lt;U+76D8&gt;                                                                                                                                                                                                            </td><td>3340940262                                                                                                                                                                                                                                                   </td><td>cn                                                                                                                                                                                                                                                           </td><td>2016-08-04                                                                                                                                                                                                                                                   </td><td>2017-11-23                                                                                                                                                                                                                                                   </td><td>15                                                                                                                                                                                                                                                           </td><td> 1.0000                                                                                                                                                                                                                                                      </td><td>...                                                                                                                                                                                                                                                          </td><td>0                                                                                                                                                                                                                                                            </td><td>NA                                                                                                                                                                                                                                                           </td><td>NA                                                                                                                                                                                                                                                           </td><td>1.511407e+12                                                                                                                                                                                                                                                 </td><td>#666                                                                                                                                                                                                                                                         </td><td>NA                                                                                                                                                                                                                                                           </td><td>NULL                                                                                                                                                                                                                                                         </td><td>PAMID                                                                                                                                                                                                                                                        </td><td>PAMID.24a094515823c87783f382476d42cc73ffe6746d0553ae1514e050516c631786                                                                                                                                                                                       </td><td>&lt;U+5199&gt;&lt;U+70B9&gt;&lt;U+5EFA&gt;&lt;U+8BAE&gt;&lt;U+5427&gt;,&lt;U+4FBF&gt;&lt;U+4E8E&gt;&lt;U+522B&gt;&lt;U+4EBA&gt;&lt;U+4E86&gt;&lt;U+89E3&gt;&lt;U+4F60&gt;&lt;U+7684&gt;&lt;U+5B9E&gt;&lt;U+76D8&gt;&lt;U+7EC4&gt;&lt;U+5408&gt;&lt;U+3002&gt;</td></tr>\n",
       "</tbody>\n",
       "</table>\n"
      ],
      "text/latex": [
       "\\begin{tabular}{r|llllllllllllllllllllllll}\n",
       " cube.symbol & lastcrawl & cube.type & cube.name & owner.id & market & create.date & close.date & fans.count & net.value & ... & daily.ret & bb.rate & listed.flag & update.date & style.name & style.degree & tag & tid & aid & description\\\\\n",
       "\\hline\n",
       "\t SP1000000                                                                                                                                         & 1703                                                                                                                                              & SP                                                                                                                                                & gkzhong<U+7684><U+5B9E><U+76D8>                                                                                                                   & 3340940262                                                                                                                                        & cn                                                                                                                                                & 2016-07-28                                                                                                                                        & NA                                                                                                                                                & 18                                                                                                                                                & 16.2671                                                                                                                                           & ...                                                                                                                                               & 0                                                                                                                                                 & NA                                                                                                                                                & NA                                                                                                                                                & 1.494831e+12                                                                                                                                      & NA                                                                                                                                                & NA                                                                                                                                                & NULL                                                                                                                                              & PAMID                                                                                                                                             & PAMID.24a094515823c87783f382476d42cc73ffe6746d0553ae1514e050516c631786                                                                            & <U+5199><U+70B9><U+5EFA><U+8BAE><U+5427>,<U+4FBF><U+4E8E><U+522B><U+4EBA><U+4E86><U+89E3><U+4F60><U+7684><U+5B9E><U+76D8><U+7EC4><U+5408><U+3002>\\\\\n",
       "\t SP1000000                                                                                                                                         & 1803                                                                                                                                              & SP                                                                                                                                                & gkzhong<U+7684><U+5B9E><U+76D8>                                                                                                                   & 3340940262                                                                                                                                        & cn                                                                                                                                                & 2016-08-04                                                                                                                                        & 2017-11-23                                                                                                                                        & 15                                                                                                                                                &  1.0000                                                                                                                                           & ...                                                                                                                                               & 0                                                                                                                                                 & NA                                                                                                                                                & NA                                                                                                                                                & 1.511407e+12                                                                                                                                      & \\#666                                                                                                                                            & NA                                                                                                                                                & NULL                                                                                                                                              & PAMID                                                                                                                                             & PAMID.24a094515823c87783f382476d42cc73ffe6746d0553ae1514e050516c631786                                                                            & <U+5199><U+70B9><U+5EFA><U+8BAE><U+5427>,<U+4FBF><U+4E8E><U+522B><U+4EBA><U+4E86><U+89E3><U+4F60><U+7684><U+5B9E><U+76D8><U+7EC4><U+5408><U+3002>\\\\\n",
       "\t SP1000000                                                                                                                                         & 1806                                                                                                                                              & SP                                                                                                                                                & gkzhong<U+7684><U+5B9E><U+76D8>                                                                                                                   & 3340940262                                                                                                                                        & cn                                                                                                                                                & 2016-08-04                                                                                                                                        & 2017-11-23                                                                                                                                        & 15                                                                                                                                                &  1.0000                                                                                                                                           & ...                                                                                                                                               & 0                                                                                                                                                 & NA                                                                                                                                                & NA                                                                                                                                                & 1.511407e+12                                                                                                                                      & \\#666                                                                                                                                            & NA                                                                                                                                                & NULL                                                                                                                                              & PAMID                                                                                                                                             & PAMID.24a094515823c87783f382476d42cc73ffe6746d0553ae1514e050516c631786                                                                            & <U+5199><U+70B9><U+5EFA><U+8BAE><U+5427>,<U+4FBF><U+4E8E><U+522B><U+4EBA><U+4E86><U+89E3><U+4F60><U+7684><U+5B9E><U+76D8><U+7EC4><U+5408><U+3002>\\\\\n",
       "\t SP1000000                                                                                                                                         & 1810                                                                                                                                              & SP                                                                                                                                                & gkzhong<U+7684><U+5B9E><U+76D8>                                                                                                                   & 3340940262                                                                                                                                        & cn                                                                                                                                                & 2016-08-04                                                                                                                                        & 2017-11-23                                                                                                                                        & 15                                                                                                                                                &  1.0000                                                                                                                                           & ...                                                                                                                                               & 0                                                                                                                                                 & NA                                                                                                                                                & NA                                                                                                                                                & 1.511407e+12                                                                                                                                      & \\#666                                                                                                                                            & NA                                                                                                                                                & NULL                                                                                                                                              & PAMID                                                                                                                                             & PAMID.24a094515823c87783f382476d42cc73ffe6746d0553ae1514e050516c631786                                                                            & <U+5199><U+70B9><U+5EFA><U+8BAE><U+5427>,<U+4FBF><U+4E8E><U+522B><U+4EBA><U+4E86><U+89E3><U+4F60><U+7684><U+5B9E><U+76D8><U+7EC4><U+5408><U+3002>\\\\\n",
       "\t SP1000000                                                                                                                                         & 1901                                                                                                                                              & SP                                                                                                                                                & gkzhong<U+7684><U+5B9E><U+76D8>                                                                                                                   & 3340940262                                                                                                                                        & cn                                                                                                                                                & 2016-08-04                                                                                                                                        & 2017-11-23                                                                                                                                        & 15                                                                                                                                                &  1.0000                                                                                                                                           & ...                                                                                                                                               & 0                                                                                                                                                 & NA                                                                                                                                                & NA                                                                                                                                                & 1.511407e+12                                                                                                                                      & \\#666                                                                                                                                            & NA                                                                                                                                                & NULL                                                                                                                                              & PAMID                                                                                                                                             & PAMID.24a094515823c87783f382476d42cc73ffe6746d0553ae1514e050516c631786                                                                            & <U+5199><U+70B9><U+5EFA><U+8BAE><U+5427>,<U+4FBF><U+4E8E><U+522B><U+4EBA><U+4E86><U+89E3><U+4F60><U+7684><U+5B9E><U+76D8><U+7EC4><U+5408><U+3002>\\\\\n",
       "\\end{tabular}\n"
      ],
      "text/markdown": [
       "\n",
       "cube.symbol | lastcrawl | cube.type | cube.name | owner.id | market | create.date | close.date | fans.count | net.value | ... | daily.ret | bb.rate | listed.flag | update.date | style.name | style.degree | tag | tid | aid | description | \n",
       "|---|---|---|---|---|\n",
       "| SP1000000                                                                                                                                         | 1703                                                                                                                                              | SP                                                                                                                                                | gkzhong<U+7684><U+5B9E><U+76D8>                                                                                                                   | 3340940262                                                                                                                                        | cn                                                                                                                                                | 2016-07-28                                                                                                                                        | NA                                                                                                                                                | 18                                                                                                                                                | 16.2671                                                                                                                                           | ...                                                                                                                                               | 0                                                                                                                                                 | NA                                                                                                                                                | NA                                                                                                                                                | 1.494831e+12                                                                                                                                      | NA                                                                                                                                                | NA                                                                                                                                                | NULL                                                                                                                                              | PAMID                                                                                                                                             | PAMID.24a094515823c87783f382476d42cc73ffe6746d0553ae1514e050516c631786                                                                            | <U+5199><U+70B9><U+5EFA><U+8BAE><U+5427>,<U+4FBF><U+4E8E><U+522B><U+4EBA><U+4E86><U+89E3><U+4F60><U+7684><U+5B9E><U+76D8><U+7EC4><U+5408><U+3002> | \n",
       "| SP1000000                                                                                                                                         | 1803                                                                                                                                              | SP                                                                                                                                                | gkzhong<U+7684><U+5B9E><U+76D8>                                                                                                                   | 3340940262                                                                                                                                        | cn                                                                                                                                                | 2016-08-04                                                                                                                                        | 2017-11-23                                                                                                                                        | 15                                                                                                                                                |  1.0000                                                                                                                                           | ...                                                                                                                                               | 0                                                                                                                                                 | NA                                                                                                                                                | NA                                                                                                                                                | 1.511407e+12                                                                                                                                      | #666                                                                                                                                              | NA                                                                                                                                                | NULL                                                                                                                                              | PAMID                                                                                                                                             | PAMID.24a094515823c87783f382476d42cc73ffe6746d0553ae1514e050516c631786                                                                            | <U+5199><U+70B9><U+5EFA><U+8BAE><U+5427>,<U+4FBF><U+4E8E><U+522B><U+4EBA><U+4E86><U+89E3><U+4F60><U+7684><U+5B9E><U+76D8><U+7EC4><U+5408><U+3002> | \n",
       "| SP1000000                                                                                                                                         | 1806                                                                                                                                              | SP                                                                                                                                                | gkzhong<U+7684><U+5B9E><U+76D8>                                                                                                                   | 3340940262                                                                                                                                        | cn                                                                                                                                                | 2016-08-04                                                                                                                                        | 2017-11-23                                                                                                                                        | 15                                                                                                                                                |  1.0000                                                                                                                                           | ...                                                                                                                                               | 0                                                                                                                                                 | NA                                                                                                                                                | NA                                                                                                                                                | 1.511407e+12                                                                                                                                      | #666                                                                                                                                              | NA                                                                                                                                                | NULL                                                                                                                                              | PAMID                                                                                                                                             | PAMID.24a094515823c87783f382476d42cc73ffe6746d0553ae1514e050516c631786                                                                            | <U+5199><U+70B9><U+5EFA><U+8BAE><U+5427>,<U+4FBF><U+4E8E><U+522B><U+4EBA><U+4E86><U+89E3><U+4F60><U+7684><U+5B9E><U+76D8><U+7EC4><U+5408><U+3002> | \n",
       "| SP1000000                                                                                                                                         | 1810                                                                                                                                              | SP                                                                                                                                                | gkzhong<U+7684><U+5B9E><U+76D8>                                                                                                                   | 3340940262                                                                                                                                        | cn                                                                                                                                                | 2016-08-04                                                                                                                                        | 2017-11-23                                                                                                                                        | 15                                                                                                                                                |  1.0000                                                                                                                                           | ...                                                                                                                                               | 0                                                                                                                                                 | NA                                                                                                                                                | NA                                                                                                                                                | 1.511407e+12                                                                                                                                      | #666                                                                                                                                              | NA                                                                                                                                                | NULL                                                                                                                                              | PAMID                                                                                                                                             | PAMID.24a094515823c87783f382476d42cc73ffe6746d0553ae1514e050516c631786                                                                            | <U+5199><U+70B9><U+5EFA><U+8BAE><U+5427>,<U+4FBF><U+4E8E><U+522B><U+4EBA><U+4E86><U+89E3><U+4F60><U+7684><U+5B9E><U+76D8><U+7EC4><U+5408><U+3002> | \n",
       "| SP1000000                                                                                                                                         | 1901                                                                                                                                              | SP                                                                                                                                                | gkzhong<U+7684><U+5B9E><U+76D8>                                                                                                                   | 3340940262                                                                                                                                        | cn                                                                                                                                                | 2016-08-04                                                                                                                                        | 2017-11-23                                                                                                                                        | 15                                                                                                                                                |  1.0000                                                                                                                                           | ...                                                                                                                                               | 0                                                                                                                                                 | NA                                                                                                                                                | NA                                                                                                                                                | 1.511407e+12                                                                                                                                      | #666                                                                                                                                              | NA                                                                                                                                                | NULL                                                                                                                                              | PAMID                                                                                                                                             | PAMID.24a094515823c87783f382476d42cc73ffe6746d0553ae1514e050516c631786                                                                            | <U+5199><U+70B9><U+5EFA><U+8BAE><U+5427>,<U+4FBF><U+4E8E><U+522B><U+4EBA><U+4E86><U+89E3><U+4F60><U+7684><U+5B9E><U+76D8><U+7EC4><U+5408><U+3002> | \n",
       "\n",
       "\n"
      ],
      "text/plain": [
       "  cube.symbol lastcrawl cube.type cube.name                       owner.id  \n",
       "1 SP1000000   1703      SP        gkzhong<U+7684><U+5B9E><U+76D8> 3340940262\n",
       "2 SP1000000   1803      SP        gkzhong<U+7684><U+5B9E><U+76D8> 3340940262\n",
       "3 SP1000000   1806      SP        gkzhong<U+7684><U+5B9E><U+76D8> 3340940262\n",
       "4 SP1000000   1810      SP        gkzhong<U+7684><U+5B9E><U+76D8> 3340940262\n",
       "5 SP1000000   1901      SP        gkzhong<U+7684><U+5B9E><U+76D8> 3340940262\n",
       "  market create.date close.date fans.count net.value ... daily.ret bb.rate\n",
       "1 cn     2016-07-28  <NA>       18         16.2671   ... 0         NA     \n",
       "2 cn     2016-08-04  2017-11-23 15          1.0000   ... 0         NA     \n",
       "3 cn     2016-08-04  2017-11-23 15          1.0000   ... 0         NA     \n",
       "4 cn     2016-08-04  2017-11-23 15          1.0000   ... 0         NA     \n",
       "5 cn     2016-08-04  2017-11-23 15          1.0000   ... 0         NA     \n",
       "  listed.flag update.date  style.name style.degree tag  tid  \n",
       "1 NA          1.494831e+12 NA         NA           NULL PAMID\n",
       "2 NA          1.511407e+12 #666       NA           NULL PAMID\n",
       "3 NA          1.511407e+12 #666       NA           NULL PAMID\n",
       "4 NA          1.511407e+12 #666       NA           NULL PAMID\n",
       "5 NA          1.511407e+12 #666       NA           NULL PAMID\n",
       "  aid                                                                   \n",
       "1 PAMID.24a094515823c87783f382476d42cc73ffe6746d0553ae1514e050516c631786\n",
       "2 PAMID.24a094515823c87783f382476d42cc73ffe6746d0553ae1514e050516c631786\n",
       "3 PAMID.24a094515823c87783f382476d42cc73ffe6746d0553ae1514e050516c631786\n",
       "4 PAMID.24a094515823c87783f382476d42cc73ffe6746d0553ae1514e050516c631786\n",
       "5 PAMID.24a094515823c87783f382476d42cc73ffe6746d0553ae1514e050516c631786\n",
       "  description                                                                                                                                      \n",
       "1 <U+5199><U+70B9><U+5EFA><U+8BAE><U+5427>,<U+4FBF><U+4E8E><U+522B><U+4EBA><U+4E86><U+89E3><U+4F60><U+7684><U+5B9E><U+76D8><U+7EC4><U+5408><U+3002>\n",
       "2 <U+5199><U+70B9><U+5EFA><U+8BAE><U+5427>,<U+4FBF><U+4E8E><U+522B><U+4EBA><U+4E86><U+89E3><U+4F60><U+7684><U+5B9E><U+76D8><U+7EC4><U+5408><U+3002>\n",
       "3 <U+5199><U+70B9><U+5EFA><U+8BAE><U+5427>,<U+4FBF><U+4E8E><U+522B><U+4EBA><U+4E86><U+89E3><U+4F60><U+7684><U+5B9E><U+76D8><U+7EC4><U+5408><U+3002>\n",
       "4 <U+5199><U+70B9><U+5EFA><U+8BAE><U+5427>,<U+4FBF><U+4E8E><U+522B><U+4EBA><U+4E86><U+89E3><U+4F60><U+7684><U+5B9E><U+76D8><U+7EC4><U+5408><U+3002>\n",
       "5 <U+5199><U+70B9><U+5EFA><U+8BAE><U+5427>,<U+4FBF><U+4E8E><U+522B><U+4EBA><U+4E86><U+89E3><U+4F60><U+7684><U+5B9E><U+76D8><U+7EC4><U+5408><U+3002>"
      ]
     },
     "metadata": {},
     "output_type": "display_data"
    }
   ],
   "source": [
    "r.cube.info.mst.1901[1:5]"
   ]
  },
  {
   "cell_type": "code",
   "execution_count": 12,
   "metadata": {},
   "outputs": [
    {
     "data": {
      "text/html": [
       "<table>\n",
       "<thead><tr><th scope=col>cube.symbol</th><th scope=col>owner.id</th><th scope=col>market</th><th scope=col>create.date</th><th scope=col>close.date</th><th scope=col>fans.count</th></tr></thead>\n",
       "<tbody>\n",
       "\t<tr><td>SP1000000 </td><td>3340940262</td><td>cn        </td><td>2016-07-28</td><td>NA        </td><td>18        </td></tr>\n",
       "\t<tr><td>SP1000000 </td><td>3340940262</td><td>cn        </td><td>2016-08-04</td><td>2017-11-23</td><td>15        </td></tr>\n",
       "\t<tr><td>SP1000001 </td><td>7163075843</td><td>cn        </td><td>2016-08-04</td><td>2016-08-05</td><td> 2        </td></tr>\n",
       "\t<tr><td>SP1000001 </td><td>7163075843</td><td>cn        </td><td>2016-08-04</td><td>2016-08-05</td><td> 3        </td></tr>\n",
       "\t<tr><td>SP1000002 </td><td>8851123831</td><td>cn        </td><td>2016-06-27</td><td>NA        </td><td>10        </td></tr>\n",
       "</tbody>\n",
       "</table>\n"
      ],
      "text/latex": [
       "\\begin{tabular}{r|llllll}\n",
       " cube.symbol & owner.id & market & create.date & close.date & fans.count\\\\\n",
       "\\hline\n",
       "\t SP1000000  & 3340940262 & cn         & 2016-07-28 & NA         & 18        \\\\\n",
       "\t SP1000000  & 3340940262 & cn         & 2016-08-04 & 2017-11-23 & 15        \\\\\n",
       "\t SP1000001  & 7163075843 & cn         & 2016-08-04 & 2016-08-05 &  2        \\\\\n",
       "\t SP1000001  & 7163075843 & cn         & 2016-08-04 & 2016-08-05 &  3        \\\\\n",
       "\t SP1000002  & 8851123831 & cn         & 2016-06-27 & NA         & 10        \\\\\n",
       "\\end{tabular}\n"
      ],
      "text/markdown": [
       "\n",
       "cube.symbol | owner.id | market | create.date | close.date | fans.count | \n",
       "|---|---|---|---|---|\n",
       "| SP1000000  | 3340940262 | cn         | 2016-07-28 | NA         | 18         | \n",
       "| SP1000000  | 3340940262 | cn         | 2016-08-04 | 2017-11-23 | 15         | \n",
       "| SP1000001  | 7163075843 | cn         | 2016-08-04 | 2016-08-05 |  2         | \n",
       "| SP1000001  | 7163075843 | cn         | 2016-08-04 | 2016-08-05 |  3         | \n",
       "| SP1000002  | 8851123831 | cn         | 2016-06-27 | NA         | 10         | \n",
       "\n",
       "\n"
      ],
      "text/plain": [
       "  cube.symbol owner.id   market create.date close.date fans.count\n",
       "1 SP1000000   3340940262 cn     2016-07-28  <NA>       18        \n",
       "2 SP1000000   3340940262 cn     2016-08-04  2017-11-23 15        \n",
       "3 SP1000001   7163075843 cn     2016-08-04  2016-08-05  2        \n",
       "4 SP1000001   7163075843 cn     2016-08-04  2016-08-05  3        \n",
       "5 SP1000002   8851123831 cn     2016-06-27  <NA>       10        "
      ]
     },
     "metadata": {},
     "output_type": "display_data"
    }
   ],
   "source": [
    "cube.info <- r.cube.info.mst.1901[, .(cube.symbol, owner.id, market, create.date, close.date, fans.count)] %>% unique()\n",
    "cube.info[1:5]"
   ]
  },
  {
   "cell_type": "code",
   "execution_count": 14,
   "metadata": {},
   "outputs": [
    {
     "name": "stderr",
     "output_type": "stream",
     "text": [
      "'cube.info' will be OVERWRITTEN!\n"
     ]
    },
    {
     "name": "stdout",
     "output_type": "stream",
     "text": [
      "'cube.info' successfully saved\n",
      "Use 1.47 secs \n",
      "\n"
     ]
    }
   ],
   "source": [
    "sv(cube.info)"
   ]
  }
 ],
 "metadata": {
  "kernelspec": {
   "display_name": "MRO-3.5.1",
   "language": "R",
   "name": "ir35"
  },
  "language_info": {
   "codemirror_mode": "r",
   "file_extension": ".r",
   "mimetype": "text/x-r-source",
   "name": "R",
   "pygments_lexer": "r",
   "version": "3.5.1"
  }
 },
 "nbformat": 4,
 "nbformat_minor": 2
}
