{
 "cells": [
  {
   "cell_type": "markdown",
   "metadata": {},
   "source": [
    "# Code Snippet for CS 6140\n",
    "***"
   ]
  },
  {
   "cell_type": "markdown",
   "metadata": {},
   "source": [
    "## Before you continue\n",
    "***\n",
    "- This notebook only contains code snippet, not the full code for the assignment, since I suppose I already cover the most difficult part :P\n",
    "\n",
    "\n",
    "- Since I wrote my assignment in `Python` and converted them into `R` later, I'm afraid they may not as well performing as the `Python` version.\n",
    "\n",
    "\n",
    "- Let's start!"
   ]
  },
  {
   "cell_type": "markdown",
   "metadata": {},
   "source": [
    "## Asignment 2\n",
    "***\n",
    "\n",
    "### How to create *character* k-gram from a string?\n",
    "\n",
    "You don't need to user the `tm` package to create k-gram representations. As far as I know, `tm` only works for \"words\", not \"characters\".\n",
    "\n",
    "Actually, some simply `R` string indexing trick will suffice."
   ]
  },
  {
   "cell_type": "code",
   "execution_count": 30,
   "metadata": {},
   "outputs": [],
   "source": [
    "# You must have 'stringr' package installed\n",
    "require('stringr')"
   ]
  },
  {
   "cell_type": "code",
   "execution_count": 45,
   "metadata": {},
   "outputs": [
    {
     "data": {
      "text/html": [
       "'abcdefg'"
      ],
      "text/latex": [
       "'abcdefg'"
      ],
      "text/markdown": [
       "'abcdefg'"
      ],
      "text/plain": [
       "[1] \"abcdefg\""
      ]
     },
     "metadata": {},
     "output_type": "display_data"
    }
   ],
   "source": [
    "# First create a string\n",
    "s <- 'abcdefg'\n",
    "s"
   ]
  },
  {
   "cell_type": "code",
   "execution_count": 58,
   "metadata": {},
   "outputs": [
    {
     "data": {
      "text/html": [
       "<ol class=list-inline>\n",
       "\t<li>'ab'</li>\n",
       "\t<li>'bc'</li>\n",
       "\t<li>'cd'</li>\n",
       "\t<li>'de'</li>\n",
       "\t<li>'ef'</li>\n",
       "\t<li>'fg'</li>\n",
       "</ol>\n"
      ],
      "text/latex": [
       "\\begin{enumerate*}\n",
       "\\item 'ab'\n",
       "\\item 'bc'\n",
       "\\item 'cd'\n",
       "\\item 'de'\n",
       "\\item 'ef'\n",
       "\\item 'fg'\n",
       "\\end{enumerate*}\n"
      ],
      "text/markdown": [
       "1. 'ab'\n",
       "2. 'bc'\n",
       "3. 'cd'\n",
       "4. 'de'\n",
       "5. 'ef'\n",
       "6. 'fg'\n",
       "\n",
       "\n"
      ],
      "text/plain": [
       "[1] \"ab\" \"bc\" \"cd\" \"de\" \"ef\" \"fg\""
      ]
     },
     "metadata": {},
     "output_type": "display_data"
    }
   ],
   "source": [
    "# Loop through every string to create k-gram \n",
    "\n",
    "# Set k\n",
    "k <- 2\n",
    "\n",
    "# First, create an empty list to store generated k-grams.\n",
    "kgram <- c()\n",
    "for (i in seq_len(str_length(s))) {\n",
    "    word <- str_sub(s, i, i+k-1)\n",
    "    if (str_length(word) == k) {\n",
    "        kgram <- c(kgram, word)\n",
    "    }\n",
    "}\n",
    "kgram"
   ]
  },
  {
   "cell_type": "markdown",
   "metadata": {},
   "source": [
    "### How to create *word* k-grams?\n",
    "\n",
    "Very similar to what wo did in character k-gram."
   ]
  },
  {
   "cell_type": "code",
   "execution_count": 92,
   "metadata": {},
   "outputs": [
    {
     "data": {
      "text/html": [
       "<ol class=list-inline>\n",
       "\t<li>'w1 w2'</li>\n",
       "\t<li>'w2 w3'</li>\n",
       "\t<li>'w3 w4'</li>\n",
       "</ol>\n"
      ],
      "text/latex": [
       "\\begin{enumerate*}\n",
       "\\item 'w1 w2'\n",
       "\\item 'w2 w3'\n",
       "\\item 'w3 w4'\n",
       "\\end{enumerate*}\n"
      ],
      "text/markdown": [
       "1. 'w1 w2'\n",
       "2. 'w2 w3'\n",
       "3. 'w3 w4'\n",
       "\n",
       "\n"
      ],
      "text/plain": [
       "[1] \"w1 w2\" \"w2 w3\" \"w3 w4\""
      ]
     },
     "metadata": {},
     "output_type": "display_data"
    }
   ],
   "source": [
    "# create a sample word list\n",
    "doc <- c('w1', 'w2', 'w3', 'w4', 'w5')\n",
    "\n",
    "# set k\n",
    "k <- 2\n",
    "\n",
    "# empty vector to store generated k-grams\n",
    "kgram <- c()\n",
    "\n",
    "# loop through each word in doc\n",
    "for (i in seq_along(doc)) {\n",
    "    word <- str_c(doc[i : (i+k-1)], collapse = ' ')\n",
    "    if (i <= length(doc) - k) {\n",
    "        kgram <- c(kgram, word)\n",
    "    }   \n",
    "}\n",
    "kgram"
   ]
  },
  {
   "cell_type": "markdown",
   "metadata": {},
   "source": [
    "## How to split string into words?"
   ]
  },
  {
   "cell_type": "markdown",
   "metadata": {},
   "source": [
    "Suppose we have a string *\"John starts his day with an angry look at his inbox\"*, and we want to convert it into somthing like (if I understand your question correctly)\n",
    "\n",
    "    [\"John\", \"starts\", ..., \"inbox\"]\n",
    "    \n",
    "`stringr::str_split()` is the way to go."
   ]
  },
  {
   "cell_type": "code",
   "execution_count": 5,
   "metadata": {},
   "outputs": [
    {
     "data": {
      "text/html": [
       "<ol>\n",
       "\t<li><ol class=list-inline>\n",
       "\t<li>'John'</li>\n",
       "\t<li>'starts'</li>\n",
       "\t<li>'his'</li>\n",
       "\t<li>'day'</li>\n",
       "\t<li>'with'</li>\n",
       "\t<li>'an'</li>\n",
       "\t<li>'angry'</li>\n",
       "\t<li>'look'</li>\n",
       "\t<li>'at'</li>\n",
       "\t<li>'his'</li>\n",
       "\t<li>'inbox'</li>\n",
       "</ol>\n",
       "</li>\n",
       "</ol>\n"
      ],
      "text/latex": [
       "\\begin{enumerate}\n",
       "\\item \\begin{enumerate*}\n",
       "\\item 'John'\n",
       "\\item 'starts'\n",
       "\\item 'his'\n",
       "\\item 'day'\n",
       "\\item 'with'\n",
       "\\item 'an'\n",
       "\\item 'angry'\n",
       "\\item 'look'\n",
       "\\item 'at'\n",
       "\\item 'his'\n",
       "\\item 'inbox'\n",
       "\\end{enumerate*}\n",
       "\n",
       "\\end{enumerate}\n"
      ],
      "text/markdown": [
       "1. 1. 'John'\n",
       "2. 'starts'\n",
       "3. 'his'\n",
       "4. 'day'\n",
       "5. 'with'\n",
       "6. 'an'\n",
       "7. 'angry'\n",
       "8. 'look'\n",
       "9. 'at'\n",
       "10. 'his'\n",
       "11. 'inbox'\n",
       "\n",
       "\n",
       "\n",
       "\n",
       "\n"
      ],
      "text/plain": [
       "[[1]]\n",
       " [1] \"John\"   \"starts\" \"his\"    \"day\"    \"with\"   \"an\"     \"angry\"  \"look\"  \n",
       " [9] \"at\"     \"his\"    \"inbox\" \n"
      ]
     },
     "metadata": {},
     "output_type": "display_data"
    }
   ],
   "source": [
    "require(stringr)\n",
    "s <- \"John starts his day with an angry look at his inbox\"\n",
    "words <- str_split(s, ' ')\n",
    "words"
   ]
  },
  {
   "cell_type": "markdown",
   "metadata": {},
   "source": [
    "Actually, you don't need to intall package `stringr` to achieve that. `strsplit` in the \"base\" `R` does exactly the same thing. However, what's beautiful about `stringr` is that the naming of its functions ais very consistent and, I would say, elegent :P"
   ]
  }
 ],
 "metadata": {
  "kernelspec": {
   "display_name": "MRO-3.5.1",
   "language": "R",
   "name": "ir35"
  },
  "language_info": {
   "codemirror_mode": "r",
   "file_extension": ".r",
   "mimetype": "text/x-r-source",
   "name": "R",
   "pygments_lexer": "r",
   "version": "3.5.1"
  }
 },
 "nbformat": 4,
 "nbformat_minor": 2
}
