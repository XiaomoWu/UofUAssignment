{
 "cells": [
  {
   "cell_type": "markdown",
   "metadata": {},
   "source": [
    "# A Short Walkthrough of the Social Trading Data\n",
    "\n",
    "\n",
    "## Before you continue to read\n",
    "\n",
    "This document is written as a `Jupyter` notebook, which contains both code and text. The best thing is, you can run the code in the file!(provided you have the data and have `Jupyter` installed) \n",
    "\n",
    "If you only want to read this document, click on the `html` file, but if you want to excute the R code in the code block, you have to install `Jupyter` notebook.\n",
    "\n",
    "I use the following packages intensively in my daily data processing, of course, also in this project. If you want to run the following code block, install them by executing the next code block line by line. There may be hundreds of lines of log, but be assured that it's safe to ignore them, unless there is an `error`."
   ]
  },
  {
   "cell_type": "code",
   "execution_count": 5,
   "metadata": {
    "collapsed": true
   },
   "outputs": [
    {
     "name": "stderr",
     "output_type": "stream",
     "text": [
      "Warning message:\n",
      "\"unable to access index for repository http://www.stats.ox.ac.uk/pub/RWin/bin/windows/contrib/3.5:\n",
      "  cannot open URL 'http://www.stats.ox.ac.uk/pub/RWin/bin/windows/contrib/3.5/PACKAGES'\"Warning message:\n",
      "\"package 'devtools' is in use and will not be installed\"Skipping install of 'utilr' from a github remote, the SHA1 (2d3790ca) has not changed since last install.\n",
      "  Use `force = TRUE` to force installation\n"
     ]
    }
   ],
   "source": [
    "install.packages(\"devtools\")\n",
    "library(devtools)\n",
    "install_github(\"xiaomowu/utilr\")\n",
    "\n",
    "library(utilr)"
   ]
  },
  {
   "cell_type": "markdown",
   "metadata": {},
   "source": [
    "You may have noticed that the package `utilr` is not an \"official\" package from `CRAN`, yes, I made this package myself, which contains many useful other packages and some my personal utility functions."
   ]
  },
  {
   "cell_type": "markdown",
   "metadata": {},
   "source": [
    "You may also need to put the `.Rdata` files in a `Rdata` folder (if not exits, create one), which is at the same directory as this `Jupyter` notebook, like this: ![image](img/directory.jpg)"
   ]
  },
  {
   "cell_type": "markdown",
   "metadata": {},
   "source": [
    "Now you're reday to go!"
   ]
  },
  {
   "cell_type": "markdown",
   "metadata": {},
   "source": [
    "## dataset: `user.stock`, `cube.info`, `cube.ret`, `cube.rb`"
   ]
  },
  {
   "cell_type": "markdown",
   "metadata": {},
   "source": [
    "### `cube.info` (Portfolio information)"
   ]
  },
  {
   "cell_type": "code",
   "execution_count": 1,
   "metadata": {},
   "outputs": [
    {
     "name": "stdout",
     "output_type": "stream",
     "text": [
      "' cube.info ' successfully loaded \n",
      "Use 1.82 secs \n",
      "\n"
     ]
    },
    {
     "data": {
      "text/html": [
       "<table>\n",
       "<thead><tr><th scope=col>cube.symbol</th><th scope=col>owner.id</th><th scope=col>market</th><th scope=col>create.date</th><th scope=col>close.date</th><th scope=col>fans.count</th></tr></thead>\n",
       "<tbody>\n",
       "\t<tr><td>SP1000000 </td><td>3340940262</td><td>cn        </td><td>2016-07-28</td><td>NA        </td><td>18        </td></tr>\n",
       "\t<tr><td>SP1000000 </td><td>3340940262</td><td>cn        </td><td>2016-08-04</td><td>2017-11-23</td><td>15        </td></tr>\n",
       "\t<tr><td>SP1000001 </td><td>7163075843</td><td>cn        </td><td>2016-08-04</td><td>2016-08-05</td><td> 2        </td></tr>\n",
       "\t<tr><td>SP1000001 </td><td>7163075843</td><td>cn        </td><td>2016-08-04</td><td>2016-08-05</td><td> 3        </td></tr>\n",
       "\t<tr><td>SP1000002 </td><td>8851123831</td><td>cn        </td><td>2016-06-27</td><td>NA        </td><td>10        </td></tr>\n",
       "</tbody>\n",
       "</table>\n"
      ],
      "text/latex": [
       "\\begin{tabular}{r|llllll}\n",
       " cube.symbol & owner.id & market & create.date & close.date & fans.count\\\\\n",
       "\\hline\n",
       "\t SP1000000  & 3340940262 & cn         & 2016-07-28 & NA         & 18        \\\\\n",
       "\t SP1000000  & 3340940262 & cn         & 2016-08-04 & 2017-11-23 & 15        \\\\\n",
       "\t SP1000001  & 7163075843 & cn         & 2016-08-04 & 2016-08-05 &  2        \\\\\n",
       "\t SP1000001  & 7163075843 & cn         & 2016-08-04 & 2016-08-05 &  3        \\\\\n",
       "\t SP1000002  & 8851123831 & cn         & 2016-06-27 & NA         & 10        \\\\\n",
       "\\end{tabular}\n"
      ],
      "text/markdown": [
       "\n",
       "cube.symbol | owner.id | market | create.date | close.date | fans.count | \n",
       "|---|---|---|---|---|\n",
       "| SP1000000  | 3340940262 | cn         | 2016-07-28 | NA         | 18         | \n",
       "| SP1000000  | 3340940262 | cn         | 2016-08-04 | 2017-11-23 | 15         | \n",
       "| SP1000001  | 7163075843 | cn         | 2016-08-04 | 2016-08-05 |  2         | \n",
       "| SP1000001  | 7163075843 | cn         | 2016-08-04 | 2016-08-05 |  3         | \n",
       "| SP1000002  | 8851123831 | cn         | 2016-06-27 | NA         | 10         | \n",
       "\n",
       "\n"
      ],
      "text/plain": [
       "  cube.symbol owner.id   market create.date close.date fans.count\n",
       "1 SP1000000   3340940262 cn     2016-07-28  <NA>       18        \n",
       "2 SP1000000   3340940262 cn     2016-08-04  2017-11-23 15        \n",
       "3 SP1000001   7163075843 cn     2016-08-04  2016-08-05  2        \n",
       "4 SP1000001   7163075843 cn     2016-08-04  2016-08-05  3        \n",
       "5 SP1000002   8851123831 cn     2016-06-27  <NA>       10        "
      ]
     },
     "metadata": {},
     "output_type": "display_data"
    }
   ],
   "source": [
    "ld(cube.info)\n",
    "cube.info[1:5]"
   ]
  },
  {
   "cell_type": "code",
   "execution_count": 2,
   "metadata": {},
   "outputs": [
    {
     "data": {
      "text/plain": [
       "market\n",
       "     cn      hk      us \n",
       "1658998   94891   80674 "
      ]
     },
     "metadata": {},
     "output_type": "display_data"
    }
   ],
   "source": [
    "cube.info[, table(market)]"
   ]
  },
  {
   "cell_type": "markdown",
   "metadata": {},
   "source": [
    "- `cube.symbol`. The code (id) of each portfolio, as the identifier. The website refer to the portfolios as \"cube\" and I follow this naming convention, yet I don't know why. `cube.symbol` starting with `SP` means \"real money\" portfolios, and `ZP` for \"virtual\" portfolios. Again, I'm just following their naming convention.\n",
    "\n",
    "\n",
    "- `owner.id`. Identifier of the owner (creator) of the portfolios. Each `owner.id` can only create *one* real portfolios, but are allowed to create multiple virtual portfolios.\n",
    "\n",
    "\n",
    "- `market`. Which marekt does the portoflio trade in? `cn` for China, `hk` for Hongkong, and `us` for US\n",
    "\n",
    "\n",
    "- `create.date`. When the portfolo is created.\n",
    "\n",
    "\n",
    "- `close.date`. When it's closed. Some users may choose to close his portfolios.\n",
    "\n",
    "\n",
    "- `fans.count`. How many users are following (not necessarily copying) this portfolio"
   ]
  },
  {
   "cell_type": "markdown",
   "metadata": {},
   "source": [
    "### `cube.ret` (portfolio return)"
   ]
  },
  {
   "cell_type": "code",
   "execution_count": 4,
   "metadata": {},
   "outputs": [
    {
     "name": "stderr",
     "output_type": "stream",
     "text": [
      "'cube.ret' already exists, will NOT load again!\n"
     ]
    },
    {
     "name": "stdout",
     "output_type": "stream",
     "text": [
      "Use 0 secs \n",
      "\n"
     ]
    },
    {
     "data": {
      "text/html": [
       "<table>\n",
       "<thead><tr><th scope=col>cube.symbol</th><th scope=col>date</th><th scope=col>value</th></tr></thead>\n",
       "<tbody>\n",
       "\t<tr><td>SP1000000 </td><td>2017-01-03</td><td>16.2671   </td></tr>\n",
       "\t<tr><td>SP1000000 </td><td>2017-01-04</td><td>16.2671   </td></tr>\n",
       "\t<tr><td>SP1000000 </td><td>2017-01-05</td><td>16.2671   </td></tr>\n",
       "\t<tr><td>SP1000000 </td><td>2017-01-06</td><td>16.2671   </td></tr>\n",
       "\t<tr><td>SP1000000 </td><td>2017-01-09</td><td>16.2671   </td></tr>\n",
       "</tbody>\n",
       "</table>\n"
      ],
      "text/latex": [
       "\\begin{tabular}{r|lll}\n",
       " cube.symbol & date & value\\\\\n",
       "\\hline\n",
       "\t SP1000000  & 2017-01-03 & 16.2671   \\\\\n",
       "\t SP1000000  & 2017-01-04 & 16.2671   \\\\\n",
       "\t SP1000000  & 2017-01-05 & 16.2671   \\\\\n",
       "\t SP1000000  & 2017-01-06 & 16.2671   \\\\\n",
       "\t SP1000000  & 2017-01-09 & 16.2671   \\\\\n",
       "\\end{tabular}\n"
      ],
      "text/markdown": [
       "\n",
       "cube.symbol | date | value | \n",
       "|---|---|---|---|---|\n",
       "| SP1000000  | 2017-01-03 | 16.2671    | \n",
       "| SP1000000  | 2017-01-04 | 16.2671    | \n",
       "| SP1000000  | 2017-01-05 | 16.2671    | \n",
       "| SP1000000  | 2017-01-06 | 16.2671    | \n",
       "| SP1000000  | 2017-01-09 | 16.2671    | \n",
       "\n",
       "\n"
      ],
      "text/plain": [
       "  cube.symbol date       value  \n",
       "1 SP1000000   2017-01-03 16.2671\n",
       "2 SP1000000   2017-01-04 16.2671\n",
       "3 SP1000000   2017-01-05 16.2671\n",
       "4 SP1000000   2017-01-06 16.2671\n",
       "5 SP1000000   2017-01-09 16.2671"
      ]
     },
     "metadata": {},
     "output_type": "display_data"
    }
   ],
   "source": [
    "ld(cube.ret)\n",
    "cube.ret[1:5]"
   ]
  },
  {
   "cell_type": "markdown",
   "metadata": {},
   "source": [
    "- `cube.symbol`. See previous.\n",
    "\n",
    "\n",
    "- `value`. Portfolio netvalue. Every portfolio starts with `value` of **1**."
   ]
  },
  {
   "cell_type": "markdown",
   "metadata": {},
   "source": [
    "### `cube.rb` (portfolio rebalance)"
   ]
  },
  {
   "cell_type": "code",
   "execution_count": 6,
   "metadata": {},
   "outputs": [
    {
     "name": "stdout",
     "output_type": "stream",
     "text": [
      "' cube.rb ' successfully loaded \n",
      "Use 33.46 secs \n",
      "\n"
     ]
    },
    {
     "data": {
      "text/html": [
       "<table>\n",
       "<thead><tr><th scope=col>cube.symbol</th><th scope=col>created.at</th><th scope=col>stock.symbol</th><th scope=col>price</th><th scope=col>prev.weight.adjusted</th><th scope=col>target.weight</th></tr></thead>\n",
       "<tbody>\n",
       "\t<tr><td>SP1000047          </td><td>2017-03-20 09:25:00</td><td>SH600886           </td><td> 7.49              </td><td> 0.90              </td><td> 0.70              </td></tr>\n",
       "\t<tr><td>SP1000064          </td><td>2017-03-20 13:00:03</td><td>SH600315           </td><td>29.43              </td><td> 7.57              </td><td> 3.78              </td></tr>\n",
       "\t<tr><td>SP1000064          </td><td>2017-03-20 13:00:03</td><td>SH600315           </td><td>29.44              </td><td> 3.78              </td><td> 0.00              </td></tr>\n",
       "\t<tr><td>SP1000064          </td><td>2017-09-12 10:06:10</td><td>SH600479           </td><td>13.57              </td><td> 9.56              </td><td>11.81              </td></tr>\n",
       "\t<tr><td>SP1000064          </td><td>2017-09-12 10:06:13</td><td>SH600479           </td><td>13.57              </td><td>11.81              </td><td>12.37              </td></tr>\n",
       "\t<tr><td>SP1000064          </td><td>2017-03-20 09:46:48</td><td>SH600664           </td><td> 8.30              </td><td> 0.00              </td><td> 0.43              </td></tr>\n",
       "</tbody>\n",
       "</table>\n"
      ],
      "text/latex": [
       "\\begin{tabular}{r|llllll}\n",
       " cube.symbol & created.at & stock.symbol & price & prev.weight.adjusted & target.weight\\\\\n",
       "\\hline\n",
       "\t SP1000047           & 2017-03-20 09:25:00 & SH600886            &  7.49               &  0.90               &  0.70              \\\\\n",
       "\t SP1000064           & 2017-03-20 13:00:03 & SH600315            & 29.43               &  7.57               &  3.78              \\\\\n",
       "\t SP1000064           & 2017-03-20 13:00:03 & SH600315            & 29.44               &  3.78               &  0.00              \\\\\n",
       "\t SP1000064           & 2017-09-12 10:06:10 & SH600479            & 13.57               &  9.56               & 11.81              \\\\\n",
       "\t SP1000064           & 2017-09-12 10:06:13 & SH600479            & 13.57               & 11.81               & 12.37              \\\\\n",
       "\t SP1000064           & 2017-03-20 09:46:48 & SH600664            &  8.30               &  0.00               &  0.43              \\\\\n",
       "\\end{tabular}\n"
      ],
      "text/markdown": [
       "\n",
       "cube.symbol | created.at | stock.symbol | price | prev.weight.adjusted | target.weight | \n",
       "|---|---|---|---|---|---|\n",
       "| SP1000047           | 2017-03-20 09:25:00 | SH600886            |  7.49               |  0.90               |  0.70               | \n",
       "| SP1000064           | 2017-03-20 13:00:03 | SH600315            | 29.43               |  7.57               |  3.78               | \n",
       "| SP1000064           | 2017-03-20 13:00:03 | SH600315            | 29.44               |  3.78               |  0.00               | \n",
       "| SP1000064           | 2017-09-12 10:06:10 | SH600479            | 13.57               |  9.56               | 11.81               | \n",
       "| SP1000064           | 2017-09-12 10:06:13 | SH600479            | 13.57               | 11.81               | 12.37               | \n",
       "| SP1000064           | 2017-03-20 09:46:48 | SH600664            |  8.30               |  0.00               |  0.43               | \n",
       "\n",
       "\n"
      ],
      "text/plain": [
       "  cube.symbol created.at          stock.symbol price prev.weight.adjusted\n",
       "1 SP1000047   2017-03-20 09:25:00 SH600886      7.49  0.90               \n",
       "2 SP1000064   2017-03-20 13:00:03 SH600315     29.43  7.57               \n",
       "3 SP1000064   2017-03-20 13:00:03 SH600315     29.44  3.78               \n",
       "4 SP1000064   2017-09-12 10:06:10 SH600479     13.57  9.56               \n",
       "5 SP1000064   2017-09-12 10:06:13 SH600479     13.57 11.81               \n",
       "6 SP1000064   2017-03-20 09:46:48 SH600664      8.30  0.00               \n",
       "  target.weight\n",
       "1  0.70        \n",
       "2  3.78        \n",
       "3  0.00        \n",
       "4 11.81        \n",
       "5 12.37        \n",
       "6  0.43        "
      ]
     },
     "metadata": {},
     "output_type": "display_data"
    }
   ],
   "source": [
    "ld(cube.rb)\n",
    "head(cube.rb)"
   ]
  },
  {
   "cell_type": "markdown",
   "metadata": {},
   "source": [
    "- `created.at`. When a trade is made.\n",
    "\n",
    "\n",
    "- `stock.symbol`. Which stock is the trade involved. `SH` prefix is for Shanghai Exchange, and `SZ` is for Shenzhen Exchange.\n",
    "\n",
    "\n",
    "- `price`. At which price is the trade made.\n",
    "\n",
    "\n",
    "- `prev.weight.adjusted` and `target.weight`. For example, if these two variables are `0.90` and `0.70` (first line above), respectively, it means that before the trade, this stock (SH600886) accounts for 90% of the total portfolio weight, while it only accounts for 70% after the trade. Obviously, we can see this is a *SELL* trade."
   ]
  },
  {
   "cell_type": "markdown",
   "metadata": {},
   "source": [
    "### `user.stock` (user's stock watchlist)"
   ]
  },
  {
   "cell_type": "markdown",
   "metadata": {},
   "source": [
    "This dataset gives when a stock (or portfolio) is added to a user's watchlist"
   ]
  },
  {
   "cell_type": "code",
   "execution_count": 9,
   "metadata": {},
   "outputs": [
    {
     "name": "stdout",
     "output_type": "stream",
     "text": [
      "' user.stock ' successfully loaded \n",
      "Use 26.06 secs \n",
      "\n"
     ]
    },
    {
     "data": {
      "text/html": [
       "<table>\n",
       "<thead><tr><th scope=col>user.id</th><th scope=col>create.at</th><th scope=col>code</th><th scope=col>exchange</th></tr></thead>\n",
       "<tbody>\n",
       "\t<tr><td>1000005225         </td><td>2018-01-27 09:44:34</td><td>ZH030505           </td><td>ZHHK               </td></tr>\n",
       "\t<tr><td>1000005225         </td><td>2018-01-27 09:42:18</td><td>ZH1262123          </td><td>ZHHK               </td></tr>\n",
       "\t<tr><td>1000005331         </td><td>1970-01-01 00:00:00</td><td>.DJI               </td><td>INDEXDJX           </td></tr>\n",
       "\t<tr><td>1000005331         </td><td>2018-04-11 02:57:16</td><td>.DJI               </td><td>INDEXDJX           </td></tr>\n",
       "\t<tr><td>1000005331         </td><td>1970-01-01 00:00:00</td><td>.IXIC              </td><td>INDEXNASDAQ        </td></tr>\n",
       "</tbody>\n",
       "</table>\n"
      ],
      "text/latex": [
       "\\begin{tabular}{r|llll}\n",
       " user.id & create.at & code & exchange\\\\\n",
       "\\hline\n",
       "\t 1000005225          & 2018-01-27 09:44:34 & ZH030505            & ZHHK               \\\\\n",
       "\t 1000005225          & 2018-01-27 09:42:18 & ZH1262123           & ZHHK               \\\\\n",
       "\t 1000005331          & 1970-01-01 00:00:00 & .DJI                & INDEXDJX           \\\\\n",
       "\t 1000005331          & 2018-04-11 02:57:16 & .DJI                & INDEXDJX           \\\\\n",
       "\t 1000005331          & 1970-01-01 00:00:00 & .IXIC               & INDEXNASDAQ        \\\\\n",
       "\\end{tabular}\n"
      ],
      "text/markdown": [
       "\n",
       "user.id | create.at | code | exchange | \n",
       "|---|---|---|---|---|\n",
       "| 1000005225          | 2018-01-27 09:44:34 | ZH030505            | ZHHK                | \n",
       "| 1000005225          | 2018-01-27 09:42:18 | ZH1262123           | ZHHK                | \n",
       "| 1000005331          | 1970-01-01 00:00:00 | .DJI                | INDEXDJX            | \n",
       "| 1000005331          | 2018-04-11 02:57:16 | .DJI                | INDEXDJX            | \n",
       "| 1000005331          | 1970-01-01 00:00:00 | .IXIC               | INDEXNASDAQ         | \n",
       "\n",
       "\n"
      ],
      "text/plain": [
       "  user.id    create.at           code      exchange   \n",
       "1 1000005225 2018-01-27 09:44:34 ZH030505  ZHHK       \n",
       "2 1000005225 2018-01-27 09:42:18 ZH1262123 ZHHK       \n",
       "3 1000005331 1970-01-01 00:00:00 .DJI      INDEXDJX   \n",
       "4 1000005331 2018-04-11 02:57:16 .DJI      INDEXDJX   \n",
       "5 1000005331 1970-01-01 00:00:00 .IXIC     INDEXNASDAQ"
      ]
     },
     "metadata": {},
     "output_type": "display_data"
    }
   ],
   "source": [
    "ld(user.stock)\n",
    "user.stock[1:5]"
   ]
  },
  {
   "cell_type": "markdown",
   "metadata": {},
   "source": [
    "- `user.id`. See previous.\n",
    "\n",
    "\n",
    "- `create.at`. When this stock is added to the watchlist.\n",
    "\n",
    "\n",
    "- `code`. code of the stock or portfolio. Please note (1) user can add stock *as well as portfolio* in to the watchlist, (2) `code` and `stock.symbol` are the same variable with different names.\n",
    "\n",
    "\n",
    "- `exchange`. Which exchange does the stock/portfolio belongs to. For example, `ZHHK` means this is a virtual portfolio (`ZH`), and it trades in Hongkong market."
   ]
  },
  {
   "cell_type": "markdown",
   "metadata": {},
   "source": [
    "Let me know if you have any questions. Happy learning!\n",
    "\n",
    "Ross"
   ]
  }
 ],
 "metadata": {
  "kernelspec": {
   "display_name": "MRO-3.5.1",
   "language": "R",
   "name": "ir35"
  },
  "language_info": {
   "codemirror_mode": "r",
   "file_extension": ".r",
   "mimetype": "text/x-r-source",
   "name": "R",
   "pygments_lexer": "r",
   "version": "3.5.1"
  }
 },
 "nbformat": 4,
 "nbformat_minor": 2
}
